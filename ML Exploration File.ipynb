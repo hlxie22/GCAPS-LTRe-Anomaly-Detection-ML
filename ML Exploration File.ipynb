{
  "cells": [
    {
      "cell_type": "markdown",
      "metadata": {
        "id": "NsWmJs_wS7RE"
      },
      "source": [
        "\n",
        "# Data Loading & Dataframe Creation & General Setup"
      ]
    },
    {
      "cell_type": "code",
      "execution_count": null,
      "metadata": {
        "colab": {
          "base_uri": "https://localhost:8080/"
        },
        "id": "DmaN-jg_Q0Ll",
        "outputId": "fc924dfc-06e9-4c85-f7f3-06bb81d5f51c"
      },
      "outputs": [
        {
          "output_type": "stream",
          "name": "stdout",
          "text": [
            "Looking in indexes: https://pypi.org/simple, https://us-python.pkg.dev/colab-wheels/public/simple/\n",
            "Collecting mat73\n",
            "  Downloading mat73-0.59-py3-none-any.whl (19 kB)\n",
            "Requirement already satisfied: numpy in /usr/local/lib/python3.7/dist-packages (from mat73) (1.21.6)\n",
            "Requirement already satisfied: h5py in /usr/local/lib/python3.7/dist-packages (from mat73) (3.1.0)\n",
            "Requirement already satisfied: cached-property in /usr/local/lib/python3.7/dist-packages (from h5py->mat73) (1.5.2)\n",
            "Installing collected packages: mat73\n",
            "Successfully installed mat73-0.59\n"
          ]
        }
      ],
      "source": [
        "# Load data\n",
        "\n",
        "!pip install mat73\n",
        "\n",
        "from mat73 import loadmat\n",
        "import pandas as pd\n",
        "import numpy as np\n",
        "\n",
        "data = loadmat('D5112-RS-SS0RC-W4-70-SepDB-30psi_D5112-Right_2021-09-23_11-32.mat')"
      ]
    },
    {
      "cell_type": "code",
      "execution_count": null,
      "metadata": {
        "colab": {
          "base_uri": "https://localhost:8080/"
        },
        "id": "Os7wLHu1mIkW",
        "outputId": "9ea91eba-5a4a-43cf-c53a-3f19347a1c24"
      },
      "outputs": [
        {
          "output_type": "stream",
          "name": "stdout",
          "text": [
            "\n",
            "data.keys(): \n",
            "dict_keys(['vsd'])\n",
            "\n",
            "type(data['vsd']): \n",
            "<class 'dict'>\n",
            "\n",
            "data['vsd'].keys(): \n",
            "dict_keys(['coord', 'data', 'filename', 'frequency', 'labels', 'splitLabels', 'splits', 'time', 'units'])\n"
          ]
        }
      ],
      "source": [
        "# Examine data composition\n",
        "\n",
        "print(\"\\ndata.keys(): \\n{}\".format(data.keys()))\n",
        "\n",
        "x = data['vsd']\n",
        "\n",
        "print(\"\\ntype(data['vsd']): \\n{}\".format(type(x)))\n",
        "\n",
        "print(\"\\ndata['vsd'].keys(): \\n{}\".format(x.keys()))"
      ]
    },
    {
      "cell_type": "code",
      "execution_count": null,
      "metadata": {
        "colab": {
          "base_uri": "https://localhost:8080/",
          "height": 300
        },
        "id": "BIlHLFXFkhBu",
        "outputId": "9d4ab262-0eb7-4070-e92d-6ad0ef71a167"
      },
      "outputs": [
        {
          "output_type": "execute_result",
          "data": {
            "text/plain": [
              "        0         1           2         3          4           5          6    \\\n",
              "0 -0.001659  0.000067  359.312317  8.667354  37.922119 -792.834717  11.102067   \n",
              "1 -0.002017  0.000096  359.313446  9.220880  40.309624 -796.290100  11.765387   \n",
              "2 -0.002423  0.000106  359.315033  9.244136  42.407356 -799.427368  12.294152   \n",
              "3 -0.002827  0.000094  359.316711  8.848499  43.969204 -802.325928  12.623202   \n",
              "4 -0.003185  0.000065  359.318115  8.158639  44.718006 -805.014160  12.668658   \n",
              "\n",
              "        7         8          9    ...  203       204       205       206  \\\n",
              "0 -5.874314 -1.986910  37.922367  ...  0.0 -0.006744 -0.122006  0.010293   \n",
              "1 -5.408507 -2.284521  40.309952  ...  0.0 -0.011327 -0.119669  0.009718   \n",
              "2 -4.971526 -2.628620  42.407749  ...  0.0 -0.013287 -0.117351  0.009606   \n",
              "3 -4.596466 -2.963815  43.969639  ...  0.0 -0.004678 -0.115308  0.005552   \n",
              "4 -4.304827 -3.249876  44.718460  ...  0.0 -0.013241 -0.113610  0.004425   \n",
              "\n",
              "        207       208       209        210       211        212  \n",
              "0  0.010293 -0.122006  0.023352  30.072489  0.709834  37.741531  \n",
              "1  0.009718 -0.119669  0.023217  30.072489  0.681822  15.376180  \n",
              "2  0.009606 -0.117351  0.023321  30.072489  0.711062  22.831297  \n",
              "3  0.005552 -0.115308  0.023196  30.072489  0.770503  71.755508  \n",
              "4  0.004425 -0.113610  0.023238  30.072489  0.794769  68.493889  \n",
              "\n",
              "[5 rows x 213 columns]"
            ],
            "text/html": [
              "\n",
              "  <div id=\"df-47e9d09f-27b9-416c-91e4-c4b678d7d8e4\">\n",
              "    <div class=\"colab-df-container\">\n",
              "      <div>\n",
              "<style scoped>\n",
              "    .dataframe tbody tr th:only-of-type {\n",
              "        vertical-align: middle;\n",
              "    }\n",
              "\n",
              "    .dataframe tbody tr th {\n",
              "        vertical-align: top;\n",
              "    }\n",
              "\n",
              "    .dataframe thead th {\n",
              "        text-align: right;\n",
              "    }\n",
              "</style>\n",
              "<table border=\"1\" class=\"dataframe\">\n",
              "  <thead>\n",
              "    <tr style=\"text-align: right;\">\n",
              "      <th></th>\n",
              "      <th>0</th>\n",
              "      <th>1</th>\n",
              "      <th>2</th>\n",
              "      <th>3</th>\n",
              "      <th>4</th>\n",
              "      <th>5</th>\n",
              "      <th>6</th>\n",
              "      <th>7</th>\n",
              "      <th>8</th>\n",
              "      <th>9</th>\n",
              "      <th>...</th>\n",
              "      <th>203</th>\n",
              "      <th>204</th>\n",
              "      <th>205</th>\n",
              "      <th>206</th>\n",
              "      <th>207</th>\n",
              "      <th>208</th>\n",
              "      <th>209</th>\n",
              "      <th>210</th>\n",
              "      <th>211</th>\n",
              "      <th>212</th>\n",
              "    </tr>\n",
              "  </thead>\n",
              "  <tbody>\n",
              "    <tr>\n",
              "      <th>0</th>\n",
              "      <td>-0.001659</td>\n",
              "      <td>0.000067</td>\n",
              "      <td>359.312317</td>\n",
              "      <td>8.667354</td>\n",
              "      <td>37.922119</td>\n",
              "      <td>-792.834717</td>\n",
              "      <td>11.102067</td>\n",
              "      <td>-5.874314</td>\n",
              "      <td>-1.986910</td>\n",
              "      <td>37.922367</td>\n",
              "      <td>...</td>\n",
              "      <td>0.0</td>\n",
              "      <td>-0.006744</td>\n",
              "      <td>-0.122006</td>\n",
              "      <td>0.010293</td>\n",
              "      <td>0.010293</td>\n",
              "      <td>-0.122006</td>\n",
              "      <td>0.023352</td>\n",
              "      <td>30.072489</td>\n",
              "      <td>0.709834</td>\n",
              "      <td>37.741531</td>\n",
              "    </tr>\n",
              "    <tr>\n",
              "      <th>1</th>\n",
              "      <td>-0.002017</td>\n",
              "      <td>0.000096</td>\n",
              "      <td>359.313446</td>\n",
              "      <td>9.220880</td>\n",
              "      <td>40.309624</td>\n",
              "      <td>-796.290100</td>\n",
              "      <td>11.765387</td>\n",
              "      <td>-5.408507</td>\n",
              "      <td>-2.284521</td>\n",
              "      <td>40.309952</td>\n",
              "      <td>...</td>\n",
              "      <td>0.0</td>\n",
              "      <td>-0.011327</td>\n",
              "      <td>-0.119669</td>\n",
              "      <td>0.009718</td>\n",
              "      <td>0.009718</td>\n",
              "      <td>-0.119669</td>\n",
              "      <td>0.023217</td>\n",
              "      <td>30.072489</td>\n",
              "      <td>0.681822</td>\n",
              "      <td>15.376180</td>\n",
              "    </tr>\n",
              "    <tr>\n",
              "      <th>2</th>\n",
              "      <td>-0.002423</td>\n",
              "      <td>0.000106</td>\n",
              "      <td>359.315033</td>\n",
              "      <td>9.244136</td>\n",
              "      <td>42.407356</td>\n",
              "      <td>-799.427368</td>\n",
              "      <td>12.294152</td>\n",
              "      <td>-4.971526</td>\n",
              "      <td>-2.628620</td>\n",
              "      <td>42.407749</td>\n",
              "      <td>...</td>\n",
              "      <td>0.0</td>\n",
              "      <td>-0.013287</td>\n",
              "      <td>-0.117351</td>\n",
              "      <td>0.009606</td>\n",
              "      <td>0.009606</td>\n",
              "      <td>-0.117351</td>\n",
              "      <td>0.023321</td>\n",
              "      <td>30.072489</td>\n",
              "      <td>0.711062</td>\n",
              "      <td>22.831297</td>\n",
              "    </tr>\n",
              "    <tr>\n",
              "      <th>3</th>\n",
              "      <td>-0.002827</td>\n",
              "      <td>0.000094</td>\n",
              "      <td>359.316711</td>\n",
              "      <td>8.848499</td>\n",
              "      <td>43.969204</td>\n",
              "      <td>-802.325928</td>\n",
              "      <td>12.623202</td>\n",
              "      <td>-4.596466</td>\n",
              "      <td>-2.963815</td>\n",
              "      <td>43.969639</td>\n",
              "      <td>...</td>\n",
              "      <td>0.0</td>\n",
              "      <td>-0.004678</td>\n",
              "      <td>-0.115308</td>\n",
              "      <td>0.005552</td>\n",
              "      <td>0.005552</td>\n",
              "      <td>-0.115308</td>\n",
              "      <td>0.023196</td>\n",
              "      <td>30.072489</td>\n",
              "      <td>0.770503</td>\n",
              "      <td>71.755508</td>\n",
              "    </tr>\n",
              "    <tr>\n",
              "      <th>4</th>\n",
              "      <td>-0.003185</td>\n",
              "      <td>0.000065</td>\n",
              "      <td>359.318115</td>\n",
              "      <td>8.158639</td>\n",
              "      <td>44.718006</td>\n",
              "      <td>-805.014160</td>\n",
              "      <td>12.668658</td>\n",
              "      <td>-4.304827</td>\n",
              "      <td>-3.249876</td>\n",
              "      <td>44.718460</td>\n",
              "      <td>...</td>\n",
              "      <td>0.0</td>\n",
              "      <td>-0.013241</td>\n",
              "      <td>-0.113610</td>\n",
              "      <td>0.004425</td>\n",
              "      <td>0.004425</td>\n",
              "      <td>-0.113610</td>\n",
              "      <td>0.023238</td>\n",
              "      <td>30.072489</td>\n",
              "      <td>0.794769</td>\n",
              "      <td>68.493889</td>\n",
              "    </tr>\n",
              "  </tbody>\n",
              "</table>\n",
              "<p>5 rows × 213 columns</p>\n",
              "</div>\n",
              "      <button class=\"colab-df-convert\" onclick=\"convertToInteractive('df-47e9d09f-27b9-416c-91e4-c4b678d7d8e4')\"\n",
              "              title=\"Convert this dataframe to an interactive table.\"\n",
              "              style=\"display:none;\">\n",
              "        \n",
              "  <svg xmlns=\"http://www.w3.org/2000/svg\" height=\"24px\"viewBox=\"0 0 24 24\"\n",
              "       width=\"24px\">\n",
              "    <path d=\"M0 0h24v24H0V0z\" fill=\"none\"/>\n",
              "    <path d=\"M18.56 5.44l.94 2.06.94-2.06 2.06-.94-2.06-.94-.94-2.06-.94 2.06-2.06.94zm-11 1L8.5 8.5l.94-2.06 2.06-.94-2.06-.94L8.5 2.5l-.94 2.06-2.06.94zm10 10l.94 2.06.94-2.06 2.06-.94-2.06-.94-.94-2.06-.94 2.06-2.06.94z\"/><path d=\"M17.41 7.96l-1.37-1.37c-.4-.4-.92-.59-1.43-.59-.52 0-1.04.2-1.43.59L10.3 9.45l-7.72 7.72c-.78.78-.78 2.05 0 2.83L4 21.41c.39.39.9.59 1.41.59.51 0 1.02-.2 1.41-.59l7.78-7.78 2.81-2.81c.8-.78.8-2.07 0-2.86zM5.41 20L4 18.59l7.72-7.72 1.47 1.35L5.41 20z\"/>\n",
              "  </svg>\n",
              "      </button>\n",
              "      \n",
              "  <style>\n",
              "    .colab-df-container {\n",
              "      display:flex;\n",
              "      flex-wrap:wrap;\n",
              "      gap: 12px;\n",
              "    }\n",
              "\n",
              "    .colab-df-convert {\n",
              "      background-color: #E8F0FE;\n",
              "      border: none;\n",
              "      border-radius: 50%;\n",
              "      cursor: pointer;\n",
              "      display: none;\n",
              "      fill: #1967D2;\n",
              "      height: 32px;\n",
              "      padding: 0 0 0 0;\n",
              "      width: 32px;\n",
              "    }\n",
              "\n",
              "    .colab-df-convert:hover {\n",
              "      background-color: #E2EBFA;\n",
              "      box-shadow: 0px 1px 2px rgba(60, 64, 67, 0.3), 0px 1px 3px 1px rgba(60, 64, 67, 0.15);\n",
              "      fill: #174EA6;\n",
              "    }\n",
              "\n",
              "    [theme=dark] .colab-df-convert {\n",
              "      background-color: #3B4455;\n",
              "      fill: #D2E3FC;\n",
              "    }\n",
              "\n",
              "    [theme=dark] .colab-df-convert:hover {\n",
              "      background-color: #434B5C;\n",
              "      box-shadow: 0px 1px 3px 1px rgba(0, 0, 0, 0.15);\n",
              "      filter: drop-shadow(0px 1px 2px rgba(0, 0, 0, 0.3));\n",
              "      fill: #FFFFFF;\n",
              "    }\n",
              "  </style>\n",
              "\n",
              "      <script>\n",
              "        const buttonEl =\n",
              "          document.querySelector('#df-47e9d09f-27b9-416c-91e4-c4b678d7d8e4 button.colab-df-convert');\n",
              "        buttonEl.style.display =\n",
              "          google.colab.kernel.accessAllowed ? 'block' : 'none';\n",
              "\n",
              "        async function convertToInteractive(key) {\n",
              "          const element = document.querySelector('#df-47e9d09f-27b9-416c-91e4-c4b678d7d8e4');\n",
              "          const dataTable =\n",
              "            await google.colab.kernel.invokeFunction('convertToInteractive',\n",
              "                                                     [key], {});\n",
              "          if (!dataTable) return;\n",
              "\n",
              "          const docLinkHtml = 'Like what you see? Visit the ' +\n",
              "            '<a target=\"_blank\" href=https://colab.research.google.com/notebooks/data_table.ipynb>data table notebook</a>'\n",
              "            + ' to learn more about interactive tables.';\n",
              "          element.innerHTML = '';\n",
              "          dataTable['output_type'] = 'display_data';\n",
              "          await google.colab.output.renderOutput(dataTable, element);\n",
              "          const docLink = document.createElement('div');\n",
              "          docLink.innerHTML = docLinkHtml;\n",
              "          element.appendChild(docLink);\n",
              "        }\n",
              "      </script>\n",
              "    </div>\n",
              "  </div>\n",
              "  "
            ]
          },
          "metadata": {},
          "execution_count": 3
        }
      ],
      "source": [
        "# Create dataframe\n",
        "\n",
        "df = pd.DataFrame(x['data']).transpose()\n",
        "df.head()"
      ]
    },
    {
      "cell_type": "code",
      "execution_count": null,
      "metadata": {
        "colab": {
          "base_uri": "https://localhost:8080/",
          "height": 404
        },
        "id": "_O3CPcBhJAfl",
        "outputId": "325eb64e-d425-4ee5-c3be-b49ddf3011b8"
      },
      "outputs": [
        {
          "output_type": "execute_result",
          "data": {
            "text/plain": [
              "   SA Filtered - Slip Angle Filtered  \\\n",
              "0                          -0.001659   \n",
              "1                          -0.002017   \n",
              "2                          -0.002423   \n",
              "3                          -0.002827   \n",
              "4                          -0.003185   \n",
              "\n",
              "   IA Filtered - Inclination Angle Filtered  \\\n",
              "0                                  0.000067   \n",
              "1                                  0.000096   \n",
              "2                                  0.000106   \n",
              "3                                  0.000094   \n",
              "4                                  0.000065   \n",
              "\n",
              "   RL Filtered - Loaded Radius Filtered  \\\n",
              "0                            359.312317   \n",
              "1                            359.313446   \n",
              "2                            359.315033   \n",
              "3                            359.316711   \n",
              "4                            359.318115   \n",
              "\n",
              "   FXtd Filtered - Longitudinal Force Filtered  \\\n",
              "0                                     8.667354   \n",
              "1                                     9.220880   \n",
              "2                                     9.244136   \n",
              "3                                     8.848499   \n",
              "4                                     8.158639   \n",
              "\n",
              "   FYtd Filtered - Lateral Force Filtered  \\\n",
              "0                               37.922119   \n",
              "1                               40.309624   \n",
              "2                               42.407356   \n",
              "3                               43.969204   \n",
              "4                               44.718006   \n",
              "\n",
              "   FZtd Filtered - Normal Force Filtered  \\\n",
              "0                            -792.834717   \n",
              "1                            -796.290100   \n",
              "2                            -799.427368   \n",
              "3                            -802.325928   \n",
              "4                            -805.014160   \n",
              "\n",
              "   MXtd Filtered - Overturning Moment Filtered  \\\n",
              "0                                    11.102067   \n",
              "1                                    11.765387   \n",
              "2                                    12.294152   \n",
              "3                                    12.623202   \n",
              "4                                    12.668658   \n",
              "\n",
              "   MYtd Filtered - Rolling Resistance Moment Filtered  \\\n",
              "0                                          -5.874314    \n",
              "1                                          -5.408507    \n",
              "2                                          -4.971526    \n",
              "3                                          -4.596466    \n",
              "4                                          -4.304827    \n",
              "\n",
              "   MZtd Filtered - Aligning Moment Filtered  \\\n",
              "0                                 -1.986910   \n",
              "1                                 -2.284521   \n",
              "2                                 -2.628620   \n",
              "3                                 -2.963815   \n",
              "4                                 -3.249876   \n",
              "\n",
              "   FYRd Filtered - Cornering Force Filtered  ...  \\\n",
              "0                                 37.922367  ...   \n",
              "1                                 40.309952  ...   \n",
              "2                                 42.407749  ...   \n",
              "3                                 43.969639  ...   \n",
              "4                                 44.718460  ...   \n",
              "\n",
              "   Yb Command - Belt Position Command  IActlr V Cmd - Inclination Angle V Cmd  \\\n",
              "0                                 0.0                               -0.006744   \n",
              "1                                 0.0                               -0.011327   \n",
              "2                                 0.0                               -0.013287   \n",
              "3                                 0.0                               -0.004678   \n",
              "4                                 0.0                               -0.013241   \n",
              "\n",
              "   RLctlr V Cmd - Loaded Radius V Cmd  SActlr V Cmd - Slip Angle V Cmd  \\\n",
              "0                           -0.122006                         0.010293   \n",
              "1                           -0.119669                         0.009718   \n",
              "2                           -0.117351                         0.009606   \n",
              "3                           -0.115308                         0.005552   \n",
              "4                           -0.113610                         0.004425   \n",
              "\n",
              "   FYctlr V Cmd - Lateral Force V Cmd  FZctlr V Cmd - Vertical Load V Cmd  \\\n",
              "0                            0.010293                           -0.122006   \n",
              "1                            0.009718                           -0.119669   \n",
              "2                            0.009606                           -0.117351   \n",
              "3                            0.005552                           -0.115308   \n",
              "4                            0.004425                           -0.113610   \n",
              "\n",
              "   VSDctlr V Cmd - Spindle Velocity V Cmd  \\\n",
              "0                                0.023352   \n",
              "1                                0.023217   \n",
              "2                                0.023321   \n",
              "3                                0.023196   \n",
              "4                                0.023238   \n",
              "\n",
              "   Tst8 Unfiltered - Tire Surface Temp 8 Unfiltered  \\\n",
              "0                                         30.072489   \n",
              "1                                         30.072489   \n",
              "2                                         30.072489   \n",
              "3                                         30.072489   \n",
              "4                                         30.072489   \n",
              "\n",
              "   Yb Unfiltered - Belt Position Unfiltered  \\\n",
              "0                                  0.709834   \n",
              "1                                  0.681822   \n",
              "2                                  0.711062   \n",
              "3                                  0.770503   \n",
              "4                                  0.794769   \n",
              "\n",
              "   Trdwydrvest Unfiltered - Torque Roadway Drive Estimate Unfiltered  \n",
              "0                                          37.741531                  \n",
              "1                                          15.376180                  \n",
              "2                                          22.831297                  \n",
              "3                                          71.755508                  \n",
              "4                                          68.493889                  \n",
              "\n",
              "[5 rows x 213 columns]"
            ],
            "text/html": [
              "\n",
              "  <div id=\"df-32b3a9ca-5b2e-48cd-9bcc-80386ddff9ea\">\n",
              "    <div class=\"colab-df-container\">\n",
              "      <div>\n",
              "<style scoped>\n",
              "    .dataframe tbody tr th:only-of-type {\n",
              "        vertical-align: middle;\n",
              "    }\n",
              "\n",
              "    .dataframe tbody tr th {\n",
              "        vertical-align: top;\n",
              "    }\n",
              "\n",
              "    .dataframe thead th {\n",
              "        text-align: right;\n",
              "    }\n",
              "</style>\n",
              "<table border=\"1\" class=\"dataframe\">\n",
              "  <thead>\n",
              "    <tr style=\"text-align: right;\">\n",
              "      <th></th>\n",
              "      <th>SA Filtered - Slip Angle Filtered</th>\n",
              "      <th>IA Filtered - Inclination Angle Filtered</th>\n",
              "      <th>RL Filtered - Loaded Radius Filtered</th>\n",
              "      <th>FXtd Filtered - Longitudinal Force Filtered</th>\n",
              "      <th>FYtd Filtered - Lateral Force Filtered</th>\n",
              "      <th>FZtd Filtered - Normal Force Filtered</th>\n",
              "      <th>MXtd Filtered - Overturning Moment Filtered</th>\n",
              "      <th>MYtd Filtered - Rolling Resistance Moment Filtered</th>\n",
              "      <th>MZtd Filtered - Aligning Moment Filtered</th>\n",
              "      <th>FYRd Filtered - Cornering Force Filtered</th>\n",
              "      <th>...</th>\n",
              "      <th>Yb Command - Belt Position Command</th>\n",
              "      <th>IActlr V Cmd - Inclination Angle V Cmd</th>\n",
              "      <th>RLctlr V Cmd - Loaded Radius V Cmd</th>\n",
              "      <th>SActlr V Cmd - Slip Angle V Cmd</th>\n",
              "      <th>FYctlr V Cmd - Lateral Force V Cmd</th>\n",
              "      <th>FZctlr V Cmd - Vertical Load V Cmd</th>\n",
              "      <th>VSDctlr V Cmd - Spindle Velocity V Cmd</th>\n",
              "      <th>Tst8 Unfiltered - Tire Surface Temp 8 Unfiltered</th>\n",
              "      <th>Yb Unfiltered - Belt Position Unfiltered</th>\n",
              "      <th>Trdwydrvest Unfiltered - Torque Roadway Drive Estimate Unfiltered</th>\n",
              "    </tr>\n",
              "  </thead>\n",
              "  <tbody>\n",
              "    <tr>\n",
              "      <th>0</th>\n",
              "      <td>-0.001659</td>\n",
              "      <td>0.000067</td>\n",
              "      <td>359.312317</td>\n",
              "      <td>8.667354</td>\n",
              "      <td>37.922119</td>\n",
              "      <td>-792.834717</td>\n",
              "      <td>11.102067</td>\n",
              "      <td>-5.874314</td>\n",
              "      <td>-1.986910</td>\n",
              "      <td>37.922367</td>\n",
              "      <td>...</td>\n",
              "      <td>0.0</td>\n",
              "      <td>-0.006744</td>\n",
              "      <td>-0.122006</td>\n",
              "      <td>0.010293</td>\n",
              "      <td>0.010293</td>\n",
              "      <td>-0.122006</td>\n",
              "      <td>0.023352</td>\n",
              "      <td>30.072489</td>\n",
              "      <td>0.709834</td>\n",
              "      <td>37.741531</td>\n",
              "    </tr>\n",
              "    <tr>\n",
              "      <th>1</th>\n",
              "      <td>-0.002017</td>\n",
              "      <td>0.000096</td>\n",
              "      <td>359.313446</td>\n",
              "      <td>9.220880</td>\n",
              "      <td>40.309624</td>\n",
              "      <td>-796.290100</td>\n",
              "      <td>11.765387</td>\n",
              "      <td>-5.408507</td>\n",
              "      <td>-2.284521</td>\n",
              "      <td>40.309952</td>\n",
              "      <td>...</td>\n",
              "      <td>0.0</td>\n",
              "      <td>-0.011327</td>\n",
              "      <td>-0.119669</td>\n",
              "      <td>0.009718</td>\n",
              "      <td>0.009718</td>\n",
              "      <td>-0.119669</td>\n",
              "      <td>0.023217</td>\n",
              "      <td>30.072489</td>\n",
              "      <td>0.681822</td>\n",
              "      <td>15.376180</td>\n",
              "    </tr>\n",
              "    <tr>\n",
              "      <th>2</th>\n",
              "      <td>-0.002423</td>\n",
              "      <td>0.000106</td>\n",
              "      <td>359.315033</td>\n",
              "      <td>9.244136</td>\n",
              "      <td>42.407356</td>\n",
              "      <td>-799.427368</td>\n",
              "      <td>12.294152</td>\n",
              "      <td>-4.971526</td>\n",
              "      <td>-2.628620</td>\n",
              "      <td>42.407749</td>\n",
              "      <td>...</td>\n",
              "      <td>0.0</td>\n",
              "      <td>-0.013287</td>\n",
              "      <td>-0.117351</td>\n",
              "      <td>0.009606</td>\n",
              "      <td>0.009606</td>\n",
              "      <td>-0.117351</td>\n",
              "      <td>0.023321</td>\n",
              "      <td>30.072489</td>\n",
              "      <td>0.711062</td>\n",
              "      <td>22.831297</td>\n",
              "    </tr>\n",
              "    <tr>\n",
              "      <th>3</th>\n",
              "      <td>-0.002827</td>\n",
              "      <td>0.000094</td>\n",
              "      <td>359.316711</td>\n",
              "      <td>8.848499</td>\n",
              "      <td>43.969204</td>\n",
              "      <td>-802.325928</td>\n",
              "      <td>12.623202</td>\n",
              "      <td>-4.596466</td>\n",
              "      <td>-2.963815</td>\n",
              "      <td>43.969639</td>\n",
              "      <td>...</td>\n",
              "      <td>0.0</td>\n",
              "      <td>-0.004678</td>\n",
              "      <td>-0.115308</td>\n",
              "      <td>0.005552</td>\n",
              "      <td>0.005552</td>\n",
              "      <td>-0.115308</td>\n",
              "      <td>0.023196</td>\n",
              "      <td>30.072489</td>\n",
              "      <td>0.770503</td>\n",
              "      <td>71.755508</td>\n",
              "    </tr>\n",
              "    <tr>\n",
              "      <th>4</th>\n",
              "      <td>-0.003185</td>\n",
              "      <td>0.000065</td>\n",
              "      <td>359.318115</td>\n",
              "      <td>8.158639</td>\n",
              "      <td>44.718006</td>\n",
              "      <td>-805.014160</td>\n",
              "      <td>12.668658</td>\n",
              "      <td>-4.304827</td>\n",
              "      <td>-3.249876</td>\n",
              "      <td>44.718460</td>\n",
              "      <td>...</td>\n",
              "      <td>0.0</td>\n",
              "      <td>-0.013241</td>\n",
              "      <td>-0.113610</td>\n",
              "      <td>0.004425</td>\n",
              "      <td>0.004425</td>\n",
              "      <td>-0.113610</td>\n",
              "      <td>0.023238</td>\n",
              "      <td>30.072489</td>\n",
              "      <td>0.794769</td>\n",
              "      <td>68.493889</td>\n",
              "    </tr>\n",
              "  </tbody>\n",
              "</table>\n",
              "<p>5 rows × 213 columns</p>\n",
              "</div>\n",
              "      <button class=\"colab-df-convert\" onclick=\"convertToInteractive('df-32b3a9ca-5b2e-48cd-9bcc-80386ddff9ea')\"\n",
              "              title=\"Convert this dataframe to an interactive table.\"\n",
              "              style=\"display:none;\">\n",
              "        \n",
              "  <svg xmlns=\"http://www.w3.org/2000/svg\" height=\"24px\"viewBox=\"0 0 24 24\"\n",
              "       width=\"24px\">\n",
              "    <path d=\"M0 0h24v24H0V0z\" fill=\"none\"/>\n",
              "    <path d=\"M18.56 5.44l.94 2.06.94-2.06 2.06-.94-2.06-.94-.94-2.06-.94 2.06-2.06.94zm-11 1L8.5 8.5l.94-2.06 2.06-.94-2.06-.94L8.5 2.5l-.94 2.06-2.06.94zm10 10l.94 2.06.94-2.06 2.06-.94-2.06-.94-.94-2.06-.94 2.06-2.06.94z\"/><path d=\"M17.41 7.96l-1.37-1.37c-.4-.4-.92-.59-1.43-.59-.52 0-1.04.2-1.43.59L10.3 9.45l-7.72 7.72c-.78.78-.78 2.05 0 2.83L4 21.41c.39.39.9.59 1.41.59.51 0 1.02-.2 1.41-.59l7.78-7.78 2.81-2.81c.8-.78.8-2.07 0-2.86zM5.41 20L4 18.59l7.72-7.72 1.47 1.35L5.41 20z\"/>\n",
              "  </svg>\n",
              "      </button>\n",
              "      \n",
              "  <style>\n",
              "    .colab-df-container {\n",
              "      display:flex;\n",
              "      flex-wrap:wrap;\n",
              "      gap: 12px;\n",
              "    }\n",
              "\n",
              "    .colab-df-convert {\n",
              "      background-color: #E8F0FE;\n",
              "      border: none;\n",
              "      border-radius: 50%;\n",
              "      cursor: pointer;\n",
              "      display: none;\n",
              "      fill: #1967D2;\n",
              "      height: 32px;\n",
              "      padding: 0 0 0 0;\n",
              "      width: 32px;\n",
              "    }\n",
              "\n",
              "    .colab-df-convert:hover {\n",
              "      background-color: #E2EBFA;\n",
              "      box-shadow: 0px 1px 2px rgba(60, 64, 67, 0.3), 0px 1px 3px 1px rgba(60, 64, 67, 0.15);\n",
              "      fill: #174EA6;\n",
              "    }\n",
              "\n",
              "    [theme=dark] .colab-df-convert {\n",
              "      background-color: #3B4455;\n",
              "      fill: #D2E3FC;\n",
              "    }\n",
              "\n",
              "    [theme=dark] .colab-df-convert:hover {\n",
              "      background-color: #434B5C;\n",
              "      box-shadow: 0px 1px 3px 1px rgba(0, 0, 0, 0.15);\n",
              "      filter: drop-shadow(0px 1px 2px rgba(0, 0, 0, 0.3));\n",
              "      fill: #FFFFFF;\n",
              "    }\n",
              "  </style>\n",
              "\n",
              "      <script>\n",
              "        const buttonEl =\n",
              "          document.querySelector('#df-32b3a9ca-5b2e-48cd-9bcc-80386ddff9ea button.colab-df-convert');\n",
              "        buttonEl.style.display =\n",
              "          google.colab.kernel.accessAllowed ? 'block' : 'none';\n",
              "\n",
              "        async function convertToInteractive(key) {\n",
              "          const element = document.querySelector('#df-32b3a9ca-5b2e-48cd-9bcc-80386ddff9ea');\n",
              "          const dataTable =\n",
              "            await google.colab.kernel.invokeFunction('convertToInteractive',\n",
              "                                                     [key], {});\n",
              "          if (!dataTable) return;\n",
              "\n",
              "          const docLinkHtml = 'Like what you see? Visit the ' +\n",
              "            '<a target=\"_blank\" href=https://colab.research.google.com/notebooks/data_table.ipynb>data table notebook</a>'\n",
              "            + ' to learn more about interactive tables.';\n",
              "          element.innerHTML = '';\n",
              "          dataTable['output_type'] = 'display_data';\n",
              "          await google.colab.output.renderOutput(dataTable, element);\n",
              "          const docLink = document.createElement('div');\n",
              "          docLink.innerHTML = docLinkHtml;\n",
              "          element.appendChild(docLink);\n",
              "        }\n",
              "      </script>\n",
              "    </div>\n",
              "  </div>\n",
              "  "
            ]
          },
          "metadata": {},
          "execution_count": 4
        }
      ],
      "source": [
        "# Incorporate units, time, etc. into dataframe\n",
        "# Each column name will be a tuple (coord, labels, units)\n",
        "\n",
        "# An extra column for time will be added\n",
        "\n",
        "# Column replacement\n",
        "\n",
        "new_columns = []\n",
        "for i in range(213):\n",
        "  column = x['labels'][i][0]\n",
        "  new_columns.append(column)\n",
        "df.columns = new_columns\n",
        "\n",
        "df.head()"
      ]
    },
    {
      "cell_type": "code",
      "execution_count": null,
      "metadata": {
        "colab": {
          "base_uri": "https://localhost:8080/",
          "height": 404
        },
        "id": "fclvZMm_Mefo",
        "outputId": "573b1b95-6e79-4a5b-e061-ce6910302f6d"
      },
      "outputs": [
        {
          "output_type": "execute_result",
          "data": {
            "text/plain": [
              "   SA Filtered - Slip Angle Filtered  \\\n",
              "0                          -0.001659   \n",
              "1                          -0.002017   \n",
              "2                          -0.002423   \n",
              "3                          -0.002827   \n",
              "4                          -0.003185   \n",
              "\n",
              "   IA Filtered - Inclination Angle Filtered  \\\n",
              "0                                  0.000067   \n",
              "1                                  0.000096   \n",
              "2                                  0.000106   \n",
              "3                                  0.000094   \n",
              "4                                  0.000065   \n",
              "\n",
              "   RL Filtered - Loaded Radius Filtered  \\\n",
              "0                            359.312317   \n",
              "1                            359.313446   \n",
              "2                            359.315033   \n",
              "3                            359.316711   \n",
              "4                            359.318115   \n",
              "\n",
              "   FXtd Filtered - Longitudinal Force Filtered  \\\n",
              "0                                     8.667354   \n",
              "1                                     9.220880   \n",
              "2                                     9.244136   \n",
              "3                                     8.848499   \n",
              "4                                     8.158639   \n",
              "\n",
              "   FYtd Filtered - Lateral Force Filtered  \\\n",
              "0                               37.922119   \n",
              "1                               40.309624   \n",
              "2                               42.407356   \n",
              "3                               43.969204   \n",
              "4                               44.718006   \n",
              "\n",
              "   FZtd Filtered - Normal Force Filtered  \\\n",
              "0                            -792.834717   \n",
              "1                            -796.290100   \n",
              "2                            -799.427368   \n",
              "3                            -802.325928   \n",
              "4                            -805.014160   \n",
              "\n",
              "   MXtd Filtered - Overturning Moment Filtered  \\\n",
              "0                                    11.102067   \n",
              "1                                    11.765387   \n",
              "2                                    12.294152   \n",
              "3                                    12.623202   \n",
              "4                                    12.668658   \n",
              "\n",
              "   MYtd Filtered - Rolling Resistance Moment Filtered  \\\n",
              "0                                          -5.874314    \n",
              "1                                          -5.408507    \n",
              "2                                          -4.971526    \n",
              "3                                          -4.596466    \n",
              "4                                          -4.304827    \n",
              "\n",
              "   MZtd Filtered - Aligning Moment Filtered  \\\n",
              "0                                 -1.986910   \n",
              "1                                 -2.284521   \n",
              "2                                 -2.628620   \n",
              "3                                 -2.963815   \n",
              "4                                 -3.249876   \n",
              "\n",
              "   FYRd Filtered - Cornering Force Filtered  ...  \\\n",
              "0                                 37.922367  ...   \n",
              "1                                 40.309952  ...   \n",
              "2                                 42.407749  ...   \n",
              "3                                 43.969639  ...   \n",
              "4                                 44.718460  ...   \n",
              "\n",
              "   IActlr V Cmd - Inclination Angle V Cmd  RLctlr V Cmd - Loaded Radius V Cmd  \\\n",
              "0                               -0.006744                           -0.122006   \n",
              "1                               -0.011327                           -0.119669   \n",
              "2                               -0.013287                           -0.117351   \n",
              "3                               -0.004678                           -0.115308   \n",
              "4                               -0.013241                           -0.113610   \n",
              "\n",
              "   SActlr V Cmd - Slip Angle V Cmd  FYctlr V Cmd - Lateral Force V Cmd  \\\n",
              "0                         0.010293                            0.010293   \n",
              "1                         0.009718                            0.009718   \n",
              "2                         0.009606                            0.009606   \n",
              "3                         0.005552                            0.005552   \n",
              "4                         0.004425                            0.004425   \n",
              "\n",
              "   FZctlr V Cmd - Vertical Load V Cmd  VSDctlr V Cmd - Spindle Velocity V Cmd  \\\n",
              "0                           -0.122006                                0.023352   \n",
              "1                           -0.119669                                0.023217   \n",
              "2                           -0.117351                                0.023321   \n",
              "3                           -0.115308                                0.023196   \n",
              "4                           -0.113610                                0.023238   \n",
              "\n",
              "   Tst8 Unfiltered - Tire Surface Temp 8 Unfiltered  \\\n",
              "0                                         30.072489   \n",
              "1                                         30.072489   \n",
              "2                                         30.072489   \n",
              "3                                         30.072489   \n",
              "4                                         30.072489   \n",
              "\n",
              "   Yb Unfiltered - Belt Position Unfiltered  \\\n",
              "0                                  0.709834   \n",
              "1                                  0.681822   \n",
              "2                                  0.711062   \n",
              "3                                  0.770503   \n",
              "4                                  0.794769   \n",
              "\n",
              "   Trdwydrvest Unfiltered - Torque Roadway Drive Estimate Unfiltered      Time  \n",
              "0                                          37.741531                  0.000000  \n",
              "1                                          15.376180                  0.007812  \n",
              "2                                          22.831297                  0.015625  \n",
              "3                                          71.755508                  0.023438  \n",
              "4                                          68.493889                  0.031250  \n",
              "\n",
              "[5 rows x 214 columns]"
            ],
            "text/html": [
              "\n",
              "  <div id=\"df-b10108a9-bcdf-459f-9858-d32be6914a31\">\n",
              "    <div class=\"colab-df-container\">\n",
              "      <div>\n",
              "<style scoped>\n",
              "    .dataframe tbody tr th:only-of-type {\n",
              "        vertical-align: middle;\n",
              "    }\n",
              "\n",
              "    .dataframe tbody tr th {\n",
              "        vertical-align: top;\n",
              "    }\n",
              "\n",
              "    .dataframe thead th {\n",
              "        text-align: right;\n",
              "    }\n",
              "</style>\n",
              "<table border=\"1\" class=\"dataframe\">\n",
              "  <thead>\n",
              "    <tr style=\"text-align: right;\">\n",
              "      <th></th>\n",
              "      <th>SA Filtered - Slip Angle Filtered</th>\n",
              "      <th>IA Filtered - Inclination Angle Filtered</th>\n",
              "      <th>RL Filtered - Loaded Radius Filtered</th>\n",
              "      <th>FXtd Filtered - Longitudinal Force Filtered</th>\n",
              "      <th>FYtd Filtered - Lateral Force Filtered</th>\n",
              "      <th>FZtd Filtered - Normal Force Filtered</th>\n",
              "      <th>MXtd Filtered - Overturning Moment Filtered</th>\n",
              "      <th>MYtd Filtered - Rolling Resistance Moment Filtered</th>\n",
              "      <th>MZtd Filtered - Aligning Moment Filtered</th>\n",
              "      <th>FYRd Filtered - Cornering Force Filtered</th>\n",
              "      <th>...</th>\n",
              "      <th>IActlr V Cmd - Inclination Angle V Cmd</th>\n",
              "      <th>RLctlr V Cmd - Loaded Radius V Cmd</th>\n",
              "      <th>SActlr V Cmd - Slip Angle V Cmd</th>\n",
              "      <th>FYctlr V Cmd - Lateral Force V Cmd</th>\n",
              "      <th>FZctlr V Cmd - Vertical Load V Cmd</th>\n",
              "      <th>VSDctlr V Cmd - Spindle Velocity V Cmd</th>\n",
              "      <th>Tst8 Unfiltered - Tire Surface Temp 8 Unfiltered</th>\n",
              "      <th>Yb Unfiltered - Belt Position Unfiltered</th>\n",
              "      <th>Trdwydrvest Unfiltered - Torque Roadway Drive Estimate Unfiltered</th>\n",
              "      <th>Time</th>\n",
              "    </tr>\n",
              "  </thead>\n",
              "  <tbody>\n",
              "    <tr>\n",
              "      <th>0</th>\n",
              "      <td>-0.001659</td>\n",
              "      <td>0.000067</td>\n",
              "      <td>359.312317</td>\n",
              "      <td>8.667354</td>\n",
              "      <td>37.922119</td>\n",
              "      <td>-792.834717</td>\n",
              "      <td>11.102067</td>\n",
              "      <td>-5.874314</td>\n",
              "      <td>-1.986910</td>\n",
              "      <td>37.922367</td>\n",
              "      <td>...</td>\n",
              "      <td>-0.006744</td>\n",
              "      <td>-0.122006</td>\n",
              "      <td>0.010293</td>\n",
              "      <td>0.010293</td>\n",
              "      <td>-0.122006</td>\n",
              "      <td>0.023352</td>\n",
              "      <td>30.072489</td>\n",
              "      <td>0.709834</td>\n",
              "      <td>37.741531</td>\n",
              "      <td>0.000000</td>\n",
              "    </tr>\n",
              "    <tr>\n",
              "      <th>1</th>\n",
              "      <td>-0.002017</td>\n",
              "      <td>0.000096</td>\n",
              "      <td>359.313446</td>\n",
              "      <td>9.220880</td>\n",
              "      <td>40.309624</td>\n",
              "      <td>-796.290100</td>\n",
              "      <td>11.765387</td>\n",
              "      <td>-5.408507</td>\n",
              "      <td>-2.284521</td>\n",
              "      <td>40.309952</td>\n",
              "      <td>...</td>\n",
              "      <td>-0.011327</td>\n",
              "      <td>-0.119669</td>\n",
              "      <td>0.009718</td>\n",
              "      <td>0.009718</td>\n",
              "      <td>-0.119669</td>\n",
              "      <td>0.023217</td>\n",
              "      <td>30.072489</td>\n",
              "      <td>0.681822</td>\n",
              "      <td>15.376180</td>\n",
              "      <td>0.007812</td>\n",
              "    </tr>\n",
              "    <tr>\n",
              "      <th>2</th>\n",
              "      <td>-0.002423</td>\n",
              "      <td>0.000106</td>\n",
              "      <td>359.315033</td>\n",
              "      <td>9.244136</td>\n",
              "      <td>42.407356</td>\n",
              "      <td>-799.427368</td>\n",
              "      <td>12.294152</td>\n",
              "      <td>-4.971526</td>\n",
              "      <td>-2.628620</td>\n",
              "      <td>42.407749</td>\n",
              "      <td>...</td>\n",
              "      <td>-0.013287</td>\n",
              "      <td>-0.117351</td>\n",
              "      <td>0.009606</td>\n",
              "      <td>0.009606</td>\n",
              "      <td>-0.117351</td>\n",
              "      <td>0.023321</td>\n",
              "      <td>30.072489</td>\n",
              "      <td>0.711062</td>\n",
              "      <td>22.831297</td>\n",
              "      <td>0.015625</td>\n",
              "    </tr>\n",
              "    <tr>\n",
              "      <th>3</th>\n",
              "      <td>-0.002827</td>\n",
              "      <td>0.000094</td>\n",
              "      <td>359.316711</td>\n",
              "      <td>8.848499</td>\n",
              "      <td>43.969204</td>\n",
              "      <td>-802.325928</td>\n",
              "      <td>12.623202</td>\n",
              "      <td>-4.596466</td>\n",
              "      <td>-2.963815</td>\n",
              "      <td>43.969639</td>\n",
              "      <td>...</td>\n",
              "      <td>-0.004678</td>\n",
              "      <td>-0.115308</td>\n",
              "      <td>0.005552</td>\n",
              "      <td>0.005552</td>\n",
              "      <td>-0.115308</td>\n",
              "      <td>0.023196</td>\n",
              "      <td>30.072489</td>\n",
              "      <td>0.770503</td>\n",
              "      <td>71.755508</td>\n",
              "      <td>0.023438</td>\n",
              "    </tr>\n",
              "    <tr>\n",
              "      <th>4</th>\n",
              "      <td>-0.003185</td>\n",
              "      <td>0.000065</td>\n",
              "      <td>359.318115</td>\n",
              "      <td>8.158639</td>\n",
              "      <td>44.718006</td>\n",
              "      <td>-805.014160</td>\n",
              "      <td>12.668658</td>\n",
              "      <td>-4.304827</td>\n",
              "      <td>-3.249876</td>\n",
              "      <td>44.718460</td>\n",
              "      <td>...</td>\n",
              "      <td>-0.013241</td>\n",
              "      <td>-0.113610</td>\n",
              "      <td>0.004425</td>\n",
              "      <td>0.004425</td>\n",
              "      <td>-0.113610</td>\n",
              "      <td>0.023238</td>\n",
              "      <td>30.072489</td>\n",
              "      <td>0.794769</td>\n",
              "      <td>68.493889</td>\n",
              "      <td>0.031250</td>\n",
              "    </tr>\n",
              "  </tbody>\n",
              "</table>\n",
              "<p>5 rows × 214 columns</p>\n",
              "</div>\n",
              "      <button class=\"colab-df-convert\" onclick=\"convertToInteractive('df-b10108a9-bcdf-459f-9858-d32be6914a31')\"\n",
              "              title=\"Convert this dataframe to an interactive table.\"\n",
              "              style=\"display:none;\">\n",
              "        \n",
              "  <svg xmlns=\"http://www.w3.org/2000/svg\" height=\"24px\"viewBox=\"0 0 24 24\"\n",
              "       width=\"24px\">\n",
              "    <path d=\"M0 0h24v24H0V0z\" fill=\"none\"/>\n",
              "    <path d=\"M18.56 5.44l.94 2.06.94-2.06 2.06-.94-2.06-.94-.94-2.06-.94 2.06-2.06.94zm-11 1L8.5 8.5l.94-2.06 2.06-.94-2.06-.94L8.5 2.5l-.94 2.06-2.06.94zm10 10l.94 2.06.94-2.06 2.06-.94-2.06-.94-.94-2.06-.94 2.06-2.06.94z\"/><path d=\"M17.41 7.96l-1.37-1.37c-.4-.4-.92-.59-1.43-.59-.52 0-1.04.2-1.43.59L10.3 9.45l-7.72 7.72c-.78.78-.78 2.05 0 2.83L4 21.41c.39.39.9.59 1.41.59.51 0 1.02-.2 1.41-.59l7.78-7.78 2.81-2.81c.8-.78.8-2.07 0-2.86zM5.41 20L4 18.59l7.72-7.72 1.47 1.35L5.41 20z\"/>\n",
              "  </svg>\n",
              "      </button>\n",
              "      \n",
              "  <style>\n",
              "    .colab-df-container {\n",
              "      display:flex;\n",
              "      flex-wrap:wrap;\n",
              "      gap: 12px;\n",
              "    }\n",
              "\n",
              "    .colab-df-convert {\n",
              "      background-color: #E8F0FE;\n",
              "      border: none;\n",
              "      border-radius: 50%;\n",
              "      cursor: pointer;\n",
              "      display: none;\n",
              "      fill: #1967D2;\n",
              "      height: 32px;\n",
              "      padding: 0 0 0 0;\n",
              "      width: 32px;\n",
              "    }\n",
              "\n",
              "    .colab-df-convert:hover {\n",
              "      background-color: #E2EBFA;\n",
              "      box-shadow: 0px 1px 2px rgba(60, 64, 67, 0.3), 0px 1px 3px 1px rgba(60, 64, 67, 0.15);\n",
              "      fill: #174EA6;\n",
              "    }\n",
              "\n",
              "    [theme=dark] .colab-df-convert {\n",
              "      background-color: #3B4455;\n",
              "      fill: #D2E3FC;\n",
              "    }\n",
              "\n",
              "    [theme=dark] .colab-df-convert:hover {\n",
              "      background-color: #434B5C;\n",
              "      box-shadow: 0px 1px 3px 1px rgba(0, 0, 0, 0.15);\n",
              "      filter: drop-shadow(0px 1px 2px rgba(0, 0, 0, 0.3));\n",
              "      fill: #FFFFFF;\n",
              "    }\n",
              "  </style>\n",
              "\n",
              "      <script>\n",
              "        const buttonEl =\n",
              "          document.querySelector('#df-b10108a9-bcdf-459f-9858-d32be6914a31 button.colab-df-convert');\n",
              "        buttonEl.style.display =\n",
              "          google.colab.kernel.accessAllowed ? 'block' : 'none';\n",
              "\n",
              "        async function convertToInteractive(key) {\n",
              "          const element = document.querySelector('#df-b10108a9-bcdf-459f-9858-d32be6914a31');\n",
              "          const dataTable =\n",
              "            await google.colab.kernel.invokeFunction('convertToInteractive',\n",
              "                                                     [key], {});\n",
              "          if (!dataTable) return;\n",
              "\n",
              "          const docLinkHtml = 'Like what you see? Visit the ' +\n",
              "            '<a target=\"_blank\" href=https://colab.research.google.com/notebooks/data_table.ipynb>data table notebook</a>'\n",
              "            + ' to learn more about interactive tables.';\n",
              "          element.innerHTML = '';\n",
              "          dataTable['output_type'] = 'display_data';\n",
              "          await google.colab.output.renderOutput(dataTable, element);\n",
              "          const docLink = document.createElement('div');\n",
              "          docLink.innerHTML = docLinkHtml;\n",
              "          element.appendChild(docLink);\n",
              "        }\n",
              "      </script>\n",
              "    </div>\n",
              "  </div>\n",
              "  "
            ]
          },
          "metadata": {},
          "execution_count": 5
        }
      ],
      "source": [
        "# Time column insertion\n",
        "\n",
        "df['Time'] = x['time']\n",
        "df.head()"
      ]
    },
    {
      "cell_type": "code",
      "execution_count": null,
      "metadata": {
        "id": "zaLaj1pmXloA"
      },
      "outputs": [],
      "source": [
        "df_no_time = df.drop('Time', axis=1)\n",
        "FREQUENCY = x['frequency']"
      ]
    },
    {
      "cell_type": "code",
      "source": [
        "# Set up associated value groupings for easy graphing and analysis\n",
        "\n"
      ],
      "metadata": {
        "id": "87rRrfjOp29r"
      },
      "execution_count": null,
      "outputs": []
    },
    {
      "cell_type": "markdown",
      "metadata": {
        "id": "LLmXTM5IWnwu"
      },
      "source": [
        "# Data Exploration"
      ]
    },
    {
      "cell_type": "markdown",
      "metadata": {
        "id": "LtjXnpO6baMo"
      },
      "source": [
        "## File Analysis"
      ]
    },
    {
      "cell_type": "code",
      "execution_count": null,
      "metadata": {
        "colab": {
          "base_uri": "https://localhost:8080/"
        },
        "id": "9bI0zK6AdGtj",
        "outputId": "da82295f-928a-4136-cbe5-a77e28ea0438"
      },
      "outputs": [
        {
          "name": "stdout",
          "output_type": "stream",
          "text": [
            "Data types of each value in data['vsd']: \n",
            "\n",
            "coord: <class 'list'>\n",
            "data: <class 'numpy.ndarray'>\n",
            "filename: <class 'str'>\n",
            "frequency: <class 'numpy.ndarray'>\n",
            "labels: <class 'list'>\n",
            "splitLabels: <class 'list'>\n",
            "splits: <class 'list'>\n",
            "time: <class 'numpy.ndarray'>\n",
            "units: <class 'list'>\n",
            "\n",
            "Shape of each value in data['vsd']: \n",
            "\n",
            "coord: 213\n",
            "data: (213, 313344)\n",
            "frequency: ()\n",
            "labels: 213\n",
            "splitLabels: 1\n",
            "splits: 1\n",
            "time: (313344,)\n",
            "units: 213\n",
            "\n",
            "View value in data['vsd']: \n",
            "\n",
            "coord: \n",
            "[['SAE Legacy'], ['SAE Legacy'], ['SAE Legacy'], ['SAE Legacy'], ['SAE Legacy'], ['SAE Legacy'], ['SAE Legacy'], ['SAE Legacy'], ['SAE Legacy'], ['SAE Legacy'], ['SAE Legacy'], ['SAE Legacy'], ['SAE Legacy'], ['SAE Legacy'], ['SAE Legacy'], ['Common'], ['Common'], ['Common'], ['Common'], ['Common'], ['Common'], ['Common'], ['Controller'], ['Controller'], ['Controller'], ['Controller'], ['Controller'], ['Controller'], ['Controller'], ['Controller'], ['Controller'], ['Controller'], ['Misc'], ['Misc'], ['Misc'], ['Misc'], ['Misc'], ['Misc'], ['Misc'], ['SAE Legacy'], ['Common'], ['Z down'], ['User'], ['Common'], ['Common'], ['SAE Legacy'], ['SAE Legacy'], ['SAE Legacy'], ['Whl Heading'], ['Whl Heading'], ['Controller'], ['Common'], ['Misc'], ['Misc'], ['Misc'], ['Misc'], ['Misc'], ['Misc'], ['Misc'], ['Misc'], ['Controller'], ['Controller'], ['Common'], ['Common'], ['Whl Heading'], ['Whl Heading'], ['Whl Heading'], ['Common'], ['Controller'], ['Controller'], ['Controller'], ['Controller'], ['Spindle Accels and Velocities'], ['Spindle Accels and Velocities'], ['Spindle Accels and Velocities'], ['Spindle Accels and Velocities'], ['Spindle Accels and Velocities'], ['Spindle Accels and Velocities'], ['Spindle Accels and Velocities'], ['Spindle Accels and Velocities'], ['Spindle Accels and Velocities'], ['Controller'], ['Controller'], ['Controller'], ['Controller'], ['Controller'], ['Controller'], ['Whl Heading'], ['Whl Heading'], ['Whl Heading'], ['Whl Heading'], ['Whl Heading'], ['Whl Heading'], ['Whl Heading'], ['Whl Heading'], ['Whl Heading'], ['Whl Heading'], ['Misc'], ['Misc'], ['Controller'], ['Machine'], ['Machine'], ['Common'], ['Common'], ['Common'], ['Misc'], ['Misc'], ['Misc'], ['Misc'], ['Common'], ['JASO'], ['JASO'], ['User'], ['User'], ['User'], ['User'], ['JASO'], ['Z down'], ['Z down'], ['Z down'], ['Z down'], ['Z down'], ['Z down'], ['Machine'], ['Misc'], ['Misc'], ['Misc'], ['Misc'], ['Misc'], ['Misc'], ['Misc'], ['Misc'], ['Misc'], ['Measured Accels'], ['Measured Accels'], ['Measured Accels'], ['Measured Accels'], ['Measured Accels'], ['Measured Accels'], ['Measured Accels'], ['Measured Accels'], ['Machine'], ['Machine'], ['Machine'], ['Machine'], ['Machine'], ['Misc'], ['SAE Legacy'], ['User'], ['User'], ['User'], ['User'], ['User'], ['User'], ['User'], ['User'], ['User'], ['User'], ['User'], ['User'], ['Machine'], ['Machine'], ['Misc'], ['Misc'], ['Misc'], ['Misc'], ['SAE Legacy'], ['Common'], ['Common'], ['Common'], ['Common'], ['Common'], ['Misc'], ['Misc'], ['Misc'], ['Misc'], ['User'], ['User'], ['User'], ['User'], ['User'], ['User'], ['User'], ['User'], ['User'], ['User'], ['User'], ['User'], ['User'], ['Controller'], ['User'], ['User'], ['Common'], ['Common'], ['Common'], ['Common'], ['User'], ['User'], ['User'], ['User'], ['Machine'], ['Machine'], ['Machine'], ['Common'], ['Controller'], ['Controller'], ['Controller'], ['Controller'], ['Controller'], ['Controller'], ['Misc'], ['Common'], ['Machine']]\n",
            "\n",
            "\n",
            "data: \n",
            "[[-1.65939261e-03 -2.01745937e-03 -2.42316141e-03 ...  0.00000000e+00\n",
            "   0.00000000e+00  0.00000000e+00]\n",
            " [ 6.66428241e-05  9.59159152e-05  1.06399362e-04 ...  0.00000000e+00\n",
            "   0.00000000e+00  0.00000000e+00]\n",
            " [ 3.59312317e+02  3.59313446e+02  3.59315033e+02 ...  0.00000000e+00\n",
            "   0.00000000e+00  0.00000000e+00]\n",
            " ...\n",
            " [ 3.00724888e+01  3.00724888e+01  3.00724888e+01 ...  0.00000000e+00\n",
            "   0.00000000e+00  0.00000000e+00]\n",
            " [ 7.09833920e-01  6.81822419e-01  7.11062372e-01 ...  0.00000000e+00\n",
            "   0.00000000e+00  0.00000000e+00]\n",
            " [ 3.77415314e+01  1.53761797e+01  2.28312969e+01 ...  0.00000000e+00\n",
            "   0.00000000e+00  0.00000000e+00]]\n",
            "\n",
            "\n",
            "filename: \n",
            "D5112-RS-SS0RC-W4-70-SepDB-30psi_D5112-Right_2021-09-23_11-32.data\n",
            "\n",
            "\n",
            "frequency: \n",
            "128.0\n",
            "\n",
            "\n",
            "labels: \n",
            "[['SA Filtered - Slip Angle Filtered'], ['IA Filtered - Inclination Angle Filtered'], ['RL Filtered - Loaded Radius Filtered'], ['FXtd Filtered - Longitudinal Force Filtered'], ['FYtd Filtered - Lateral Force Filtered'], ['FZtd Filtered - Normal Force Filtered'], ['MXtd Filtered - Overturning Moment Filtered'], ['MYtd Filtered - Rolling Resistance Moment Filtered'], ['MZtd Filtered - Aligning Moment Filtered'], ['FYRd Filtered - Cornering Force Filtered'], ['Tw Filtered - Wheel Torque Filtered'], ['FD Filtered - Drag Force Filtered'], ['Vt Filtered - Trajectory Velocity Filtered'], ['Vwd Filtered - Wheel Drive Velocity Filtered'], ['Vw Filtered - Wheel Spin Velocity Filtered'], ['Pt Filtered - Inflation Pressure Filtered'], ['Vr Filtered - Roadway Velocity Filtered'], ['Vsd Filtered - Spindle Drive Velocity Filtered'], ['SR Unfiltered - Slip Ratio Unfiltered'], ['Ta Unfiltered - Ambient Temperature Unfiltered'], ['Tb Unfiltered - Bearing Temperature Unfiltered'], ['Yb Filtered - Belt Position Filtered'], ['SActlr Command - Slip Angle Command'], ['IActlr Command - Inclination Angle Command'], ['RLctlr Command - Loaded Radius Command'], ['FYctlr Command - Lateral Force Command'], ['FZctlr Command - Vertical Load Command'], ['PTctlr Command - Inflation Pressure Command'], ['VRctlr Command - Roadway Velocity Command'], ['VSDctlr Command - Spindle Velocity Command'], ['SRctlr Command - Slip Ratio Command'], ['TWctlr Command - Wheel Torque Command'], ['Tst1 Unfiltered - Tire Surface Temp 1 Unfiltered'], ['Tst2 Unfiltered - Tire Surface Temp 2 Unfiltered'], ['Tst3 Unfiltered - Tire Surface Temp 3 Unfiltered'], ['Tst4 Unfiltered - Tire Surface Temp 4 Unfiltered'], ['Tst5 Unfiltered - Tire Surface Temp 5 Unfiltered'], ['Tst6 Unfiltered - Tire Surface Temp 6 Unfiltered'], ['Tst7 Unfiltered - Tire Surface Temp 7 Unfiltered'], ['SA Command - Slip Angle Command'], ['Pt Unfiltered - Inflation Pressure Unfiltered'], ['Vt Filtered - Trajectory Velocity Filtered'], ['UDA1 Command - User D/A 1 Command'], ['SR Filtered - Slip Ratio Filtered'], ['SP Unfiltered - Spin Angle Unfiltered'], ['Fy Unfiltered - Lateral Force Unfiltered'], ['Fx Unfiltered - Longitudinal Force Unfiltered'], ['Fz Unfiltered - Normal Force Unfiltered'], ['MZpat Unfiltered - MZ Moment @ Contact Patch Unfiltered'], ['MXpat Unfiltered - MX Moment @ Contact Patch Unfiltered'], ['TWctlr Unfiltered - Wheel Torque Unfiltered'], ['Vr Unfiltered - Roadway Velocity Unfiltered'], ['Idb Unfiltered - Belt Motor d Current Unfiltered'], ['Iqb Unfiltered - Belt Motor q Current Unfiltered'], ['Nmb Unfiltered - Belt Motor Speed Unfiltered'], ['Ids Unfiltered - Spindle Motor d Current Unfiltered'], ['Iqs Unfiltered - Spindle Motor q Current Unfiltered'], ['Ptracf Unfiltered - Belt Tracking Pressure (front) Unfiltered'], ['Ptracr Unfiltered - Belt Tracking Pressure (rear) Unfiltered'], ['Pten Unfiltered - Belt Tensioning Pressure Unfiltered'], ['YBctlr V Cmd - Belt Position V Cmd'], ['YBctlr Unfiltered - Belt Position Unfiltered'], ['Tbdi Unfiltered - Drive Inner Bearing Temperature Unfiltered'], ['Tbdo Unfiltered - Drive Outer Bearing Temperature Unfiltered'], ['FXwh Filtered - FX Force Filtered'], ['FYwh Filtered - FY Force Filtered'], ['FZwh Filtered - FZ Force Filtered'], ['Re Unfiltered - Effective Rolling Radius Unfiltered'], ['SActlr Unfiltered - Slip Angle Unfiltered'], ['VRctlr V Cmd - Roadway Velocity V Cmd'], ['SRctlr V Cmd - Slip Ratio V Cmd'], ['TWctlr V Cmd - Wheel Torque V Cmd'], ['Xaccel Filtered - X Acceleration Filtered'], ['ThetaXaccel Filtered - X Angular Accel Filtered'], ['ThetaXvel Filtered - X Angular Vel Filtered'], ['ThetaXvelsq Filtered - X Angular Vel Squared Filtered'], ['Yaccel Filtered - Y Acceleration Filtered'], ['Zaccel Filtered - Z Acceleration Filtered'], ['ThetaZaccel Filtered - Z Angular Accel Filtered'], ['ThetaZvel Filtered - Z Angular Vel Filtered'], ['ThetaZvelsq Filtered - Z Angular Vel Squared Filtered'], ['SActlr Dpfbk - Slip Angle Dpfbk'], ['IActlr Dpfbk - Inclination Angle Dpfbk'], ['RLctlr Dpfbk - Loaded Radius Dpfbk'], ['SROutGainScale Unfiltered - Slip RatioOutput Gain Scale Unfiltered'], ['SROutFFterm Unfiltered - Slip RatioOutput FFterm Unfiltered'], ['SROutPIDterm Unfiltered - Slip RatioOutput PIDterm Unfiltered'], ['MXpat Filtered - MX Moment @ Contact Patch Filtered'], ['MXctr Unfiltered - MX Moment @ Wheel Center Unfiltered'], ['MXctr Filtered - MX Moment @ Wheel Center Filtered'], ['MYpat Unfiltered - MY Moment @ Contact Patch Unfiltered'], ['MYctr Filtered - MY Moment @ Wheel Center Filtered'], ['MYctr Unfiltered - MY Moment @ Wheel Center Unfiltered'], ['MZpat Filtered - MZ Moment @ Contact Patch Filtered'], ['MZctr Unfiltered - MZ Moment @ Wheel Center Unfiltered'], ['MZctr Filtered - MZ Moment @ Wheel Center Filtered'], ['MYpat Filtered - MY Moment @ Contact Patch Filtered'], ['Tmbcmd Command - Belt Motor Torque Command Command'], ['Tmb Unfiltered - Belt Motor Torque Unfiltered'], ['TWctlr Filtered - Wheel Torque Filtered'], ['Tbidi Unfiltered - Idler Drum Inner Bearing Temp Unfiltered'], ['Tbido Unfiltered - Idler Drum Outer Bearing Temp Unfiltered'], ['Ta Filtered - Ambient Temperature Filtered'], ['Tbsf Filtered - Spindle Front Bearing Temp Filtered'], ['Tbsr Filtered - Spindle Rear Bearing Temp Filtered'], ['Tlcwi Unfiltered - Load Cell Water Temp In Unfiltered'], ['Tlcwo Unfiltered - Load Cell Water Temp Out Unfiltered'], ['Tsmwi Unfiltered - Spindle Motor Water In Temp Unfiltered'], ['Tsmwo Unfiltered - Spindle Motor Water Out Temp Unfiltered'], ['Vsd Command - Spindle Drive Velocity Command'], ['Sx1 Filtered - Longitudinal Slip Ratio Filtered'], ['Sx2 Filtered - Longitudinal Slip Ratio Filtered'], ['UAD2 Filtered - User A/D 2 Filtered'], ['UAD2 Unfiltered - User A/D 2 Unfiltered'], ['UAD1 Unfiltered - User A/D 1 Unfiltered'], ['UAD1 Filtered - User A/D 1 Filtered'], ['RL Unfiltered - Loaded Radius Unfiltered'], ['FYtd Unfiltered - Lateral Force Unfiltered'], ['FXtd Unfiltered - Longitudinal Force Unfiltered'], ['FZtd Unfiltered - Normal Force Unfiltered'], ['MXtd Unfiltered - Overturning Moment Unfiltered'], ['MYtd Unfiltered - Rolling Resistance Moment Unfiltered'], ['MZtd Unfiltered - Aligning Moment Unfiltered'], ['Trdmtrstr Unfiltered - Temp Roadway Motor Stator Unfiltered'], ['Tedbns Unfiltered - Elect Drive BusN Snub Temp Unfiltered'], ['Tedbps Unfiltered - Elect Drive BusP Snub Temp Unfiltered'], ['Tedcwi Unfiltered - Elect Drive Cooling Water In Temp Unfiltered'], ['Tedcwo Unfiltered - Elect Drive Cooling Water Out Temp Unfiltered'], ['Tedsmsm Unfiltered - Elect Drive Spdl Mtr Snub Temp Master Unfiltered'], ['Tedsmss Unfiltered - Elect Drive Spdl Mtr Snub Temp Slave Unfiltered'], ['Tsme Unfiltered - Spindle motor Exhaust Temp Unfiltered'], ['Tsmr Unfiltered - Spindle Motor Rotor Temp Unfiltered'], ['Vmb Unfiltered - Belt Motor Voltage Unfiltered'], ['a1xm Unfiltered - Measured Accel 1 (x) Unfiltered'], ['a2ym Unfiltered - Measured Accel 2 (y) Unfiltered'], ['a3zm Unfiltered - Measured Accel 3 (z) Unfiltered'], ['a4xm Unfiltered - Measured Accel 4 (x) Unfiltered'], ['a5ym Unfiltered - Measured Accel 5 (y) Unfiltered'], ['a6zm Unfiltered - Measured Accel 6 (z) Unfiltered'], ['a7zm Unfiltered - Measured Accel 7 (z) Unfiltered'], ['a8im Unfiltered - Measured Accel 8 (i) Unfiltered'], ['FXm Unfiltered - FX Force Unfiltered'], ['FYm Unfiltered - FY Force Unfiltered'], ['FZm Unfiltered - FZ Force Unfiltered'], ['MXm Unfiltered - MX Moment Unfiltered'], ['MZm Unfiltered - MZ Moment Unfiltered'], ['Mx Unfiltered - MX_th_CCWH_unfilt Unfiltered'], ['IA Unfiltered - Inclination Angle Unfiltered'], ['UAD3 Filtered - User A/D 3 Filtered'], ['UAD3 Unfiltered - User A/D 3 Unfiltered'], ['UAD4 Filtered - User A/D 4 Filtered'], ['UAD4 Unfiltered - User A/D 4 Unfiltered'], ['UAD5 Filtered - User A/D 5 Filtered'], ['UAD5 Unfiltered - User A/D 5 Unfiltered'], ['UAD6 Filtered - User A/D 6 Filtered'], ['UAD6 Unfiltered - User A/D 6 Unfiltered'], ['UAD7 Filtered - User A/D 7 Filtered'], ['UAD7 Unfiltered - User A/D 7 Unfiltered'], ['UAD8 Filtered - User A/D 8 Filtered'], ['UAD8 Unfiltered - User A/D 8 Unfiltered'], ['TSm Unfiltered - Spindle Torque Unfiltered'], ['Tspdldrvest Unfiltered - Torque Spindle Drive Estimate Unfiltered'], ['Tms Unfiltered - Spindle Motor Torque Unfiltered'], ['Vms Unfiltered - Spindle Motor Voltage Unfiltered'], ['Nms Unfiltered - Spindle Motor Speed Unfiltered'], ['Tmscmd Command - Spindle Motor Torque Command Command'], ['Tw Unfiltered - Wheel Torque Unfiltered'], ['Tbsf Unfiltered - Spindle Front Bearing Temp Unfiltered'], ['Tbsi Unfiltered - Spindle Inner Bearing Temp Unfiltered'], ['Tbso Unfiltered - Spindle Outer Bearing Temp Unfiltered'], ['Tbsr Unfiltered - Spindle Rear Bearing Temp Unfiltered'], ['Vsd Unfiltered - Spindle Drive Velocity Unfiltered'], ['Tsmbde Unfiltered - Spindle Motor Bearing DE Temp Unfiltered'], ['Tsmbnde Unfiltered - Spindle Motor Bearing NDE Temp Unfiltered'], ['Tsmende1 Unfiltered - Spindle motor Endturn NDE1 Temp Unfiltered'], ['Tsmende2 Unfiltered - Spindle motor Endturn NDE2 Temp Unfiltered'], ['UAD11 Filtered - User A/D 11 Filtered'], ['UAD12 Filtered - User A/D 12 Filtered'], ['UAD13 Filtered - User A/D 13 Filtered'], ['UAD14 Filtered - User A/D 14 Filtered'], ['UAD11 Unfiltered - User A/D 11 Unfiltered'], ['UAD12 Unfiltered - User A/D 12 Unfiltered'], ['UAD13 Unfiltered - User A/D 13 Unfiltered'], ['UAD14 Unfiltered - User A/D 14 Unfiltered'], ['UAD15 Unfiltered - User A/D 15 Unfiltered'], ['UAD16 Unfiltered - User A/D 16 Unfiltered'], ['UDA2 Command - User D/A 2 Command'], ['UDA3 Command - User D/A 3 Command'], ['UDA4 Command - User D/A 4 Command'], ['PTctlr V Cmd - Inflation Pressure V Cmd'], ['UAD9 Unfiltered - User A/D 9 Unfiltered'], ['UAD9 Filtered - User A/D 9 Filtered'], ['Dtrack1 Unfiltered - Drum Disp Front Unfiltered'], ['Dtrack2 Unfiltered - Drum Disp Rear Unfiltered'], ['RWpos Unfiltered - Roadway Position Encoder Unfiltered'], ['SPpos Unfiltered - Spindle Position Encoder Unfiltered'], ['UAD10 Filtered - User A/D 10 Filtered'], ['UAD10 Unfiltered - User A/D 10 Unfiltered'], ['UAD15 Filtered - User A/D 15 Filtered'], ['UAD16 Filtered - User A/D 16 Filtered'], ['SAm Unfiltered - Slip Angle Unfiltered'], ['IAm Unfiltered - Inclination Angle Unfiltered'], ['RLm Unfiltered - Loaded Radius Unfiltered'], ['Yb Command - Belt Position Command'], ['IActlr V Cmd - Inclination Angle V Cmd'], ['RLctlr V Cmd - Loaded Radius V Cmd'], ['SActlr V Cmd - Slip Angle V Cmd'], ['FYctlr V Cmd - Lateral Force V Cmd'], ['FZctlr V Cmd - Vertical Load V Cmd'], ['VSDctlr V Cmd - Spindle Velocity V Cmd'], ['Tst8 Unfiltered - Tire Surface Temp 8 Unfiltered'], ['Yb Unfiltered - Belt Position Unfiltered'], ['Trdwydrvest Unfiltered - Torque Roadway Drive Estimate Unfiltered']]\n",
            "\n",
            "\n",
            "splitLabels: \n",
            "['cond1']\n",
            "\n",
            "\n",
            "splits: \n",
            "[array([1.00000e+00, 2.00000e+00, 3.00000e+00, ..., 3.13326e+05,\n",
            "       3.13327e+05, 3.13328e+05])]\n",
            "\n",
            "\n",
            "time: \n",
            "[0.00000000e+00 7.81250000e-03 1.56250000e-02 ... 2.44797656e+03\n",
            " 2.44798438e+03 2.44799219e+03]\n",
            "\n",
            "\n",
            "units: \n",
            "[['deg'], ['deg'], ['mm'], ['N'], ['N'], ['N'], ['N-m'], ['N-m'], ['N-m'], ['N'], ['N-m'], ['N'], ['km/hr'], ['rpm'], ['rpm'], ['kPa'], ['km/hr'], ['rpm'], ['%'], ['°C'], ['°C'], ['mm'], ['deg'], ['deg'], ['mm'], ['N'], ['N'], ['kPa'], ['km/hr'], ['rpm'], ['%'], ['N-m'], ['°C'], ['°C'], ['°C'], ['°C'], ['°C'], ['°C'], ['°C'], ['deg'], ['kPa'], ['km/hr'], ['V'], ['%'], ['deg'], ['N'], ['N'], ['N'], ['N-m'], ['N-m'], ['N-m'], ['km/hr'], ['A'], ['A'], ['rpm'], ['A'], ['A'], ['MPa'], ['MPa'], ['MPa'], ['V'], ['mm'], ['°C'], ['°C'], ['N'], ['N'], ['N'], ['mm'], ['deg'], ['V'], ['V'], ['V'], ['g'], ['rad/s²'], ['deg/Sec'], ['unitless'], ['g'], ['g'], ['rad/s²'], ['deg/Sec'], ['unitless'], ['MPa'], ['MPa'], ['MPa'], ['unitless'], ['N·m'], ['N·m'], ['N-m'], ['N-m'], ['N-m'], ['N-m'], ['N-m'], ['N-m'], ['N-m'], ['N-m'], ['N-m'], ['N-m'], ['N-m'], ['N-m'], ['N-m'], ['°C'], ['°C'], ['°C'], ['°C'], ['°C'], ['°C'], ['°C'], ['°C'], ['°C'], ['rpm'], ['%'], ['%'], ['unitless'], ['unitless'], ['unitless'], ['unitless'], ['mm'], ['N'], ['N'], ['N'], ['N-m'], ['N-m'], ['N-m'], ['°C'], ['°C'], ['°C'], ['°C'], ['°C'], ['°C'], ['°C'], ['°C'], ['°C'], ['V'], ['g'], ['g'], ['g'], ['g'], ['g'], ['g'], ['g'], ['g'], ['N'], ['N'], ['N'], ['N-m'], ['N-m'], ['N-m'], ['deg'], ['unitless'], ['unitless'], ['unitless'], ['unitless'], ['unitless'], ['unitless'], ['unitless'], ['unitless'], ['unitless'], ['unitless'], ['unitless'], ['unitless'], ['N-m'], ['N-m'], ['N-m'], ['V'], ['rpm'], ['N-m'], ['N-m'], ['°C'], ['°C'], ['°C'], ['°C'], ['rpm'], ['°C'], ['°C'], ['°C'], ['°C'], ['unitless'], ['unitless'], ['unitless'], ['unitless'], ['unitless'], ['unitless'], ['unitless'], ['unitless'], ['unitless'], ['unitless'], ['V'], ['V'], ['V'], ['V'], ['unitless'], ['unitless'], ['mm'], ['mm'], ['unitless'], ['unitless'], ['unitless'], ['unitless'], ['unitless'], ['unitless'], ['deg'], ['deg'], ['mm'], ['mm'], ['V'], ['V'], ['V'], ['V'], ['V'], ['V'], ['°C'], ['mm'], ['N-m']]\n",
            "\n",
            "\n"
          ]
        }
      ],
      "source": [
        "# Examine data shapes and types\n",
        "\n",
        "print(\"Data types of each value in data['vsd']: \\n\")\n",
        "\n",
        "for key in x:\n",
        "    print(key + \": \" + str(type(x[key])))\n",
        "\n",
        "print(\"\\nShape of each value in data['vsd']: \\n\")\n",
        "\n",
        "for key in x:\n",
        "    if isinstance(x[key], list): \n",
        "      print(key + \": \" + str(len(x[key])))\n",
        "    elif isinstance(x[key], np.ndarray):\n",
        "      print(key + \": {}\".format((x[key].shape)))\n",
        "\n",
        "print(\"\\nView value in data['vsd']: \\n\")\n",
        "\n",
        "for key in x:\n",
        "  print(key + \": \\n{}\\n\\n\".format(x[key]))"
      ]
    },
    {
      "cell_type": "code",
      "execution_count": null,
      "metadata": {
        "colab": {
          "base_uri": "https://localhost:8080/"
        },
        "id": "Or9NfUvuTZ4K",
        "outputId": "487a7bb2-c12b-4c8d-eafc-52ea3fd2b390"
      },
      "outputs": [
        {
          "name": "stdout",
          "output_type": "stream",
          "text": [
            "Unique values in x['coord']: [['SAE Legacy'], ['Common'], ['Controller'], ['Misc'], ['Z down'], ['User'], ['Whl Heading'], ['Spindle Accels and Velocities'], ['Machine'], ['JASO'], ['Measured Accels']]\n",
            "Number of unique values in x['labels']: 212\n"
          ]
        }
      ],
      "source": [
        "# Check unique values in each list\n",
        "\n",
        "# Coord\n",
        "\n",
        "unique_coord = []\n",
        "\n",
        "for element in x['coord']:\n",
        "  if not element in unique_coord:\n",
        "    unique_coord.append(element)\n",
        "\n",
        "# Labels\n",
        "\n",
        "unique_labels = []\n",
        "\n",
        "for element in x['labels']:\n",
        "  if not element in unique_labels:\n",
        "    unique_labels.append(element)\n",
        "  \n",
        "# Print unique lists\n",
        "\n",
        "print(\"Unique values in x['coord']: {}\".format(unique_coord))\n",
        "print(\"Number of unique values in x['labels']: {}\".format(len(unique_labels)))"
      ]
    },
    {
      "cell_type": "code",
      "execution_count": null,
      "metadata": {
        "colab": {
          "base_uri": "https://localhost:8080/"
        },
        "id": "vazAHEvyJX_X",
        "outputId": "352dcb7b-483a-44bb-e768-ad1535545ec2"
      },
      "outputs": [
        {
          "data": {
            "text/plain": [
              "(313328,)"
            ]
          },
          "execution_count": 6,
          "metadata": {},
          "output_type": "execute_result"
        }
      ],
      "source": [
        "# Investigate x['splits'] further\n",
        "\n",
        "x['splits'][0].shape"
      ]
    },
    {
      "cell_type": "markdown",
      "metadata": {
        "id": "QYoZnRkYpogt"
      },
      "source": [
        "My observations:\n",
        "\n",
        "\n",
        "\n",
        "*   It looks like there are 213 dimensions for each test.\n",
        "*   There are a total of 313344 total examples or tests.\n",
        "*   It seems like the coord, labels, and units would go with the dimensions\n",
        "\n"
      ]
    },
    {
      "cell_type": "markdown",
      "metadata": {
        "id": "HHmPBDnOTAaM"
      },
      "source": [
        "## Data Graphing"
      ]
    },
    {
      "cell_type": "code",
      "execution_count": null,
      "metadata": {
        "colab": {
          "base_uri": "https://localhost:8080/",
          "height": 236
        },
        "id": "o6H7-pY9TB4c",
        "outputId": "09ea5eee-7a4e-410f-ef25-bb7faff13d40"
      },
      "outputs": [
        {
          "ename": "NameError",
          "evalue": "ignored",
          "output_type": "error",
          "traceback": [
            "\u001b[0;31m---------------------------------------------------------------------------\u001b[0m",
            "\u001b[0;31mNameError\u001b[0m                                 Traceback (most recent call last)",
            "\u001b[0;32m<ipython-input-1-0c521ac02b06>\u001b[0m in \u001b[0;36m<module>\u001b[0;34m()\u001b[0m\n\u001b[1;32m      5\u001b[0m \u001b[0mindex\u001b[0m \u001b[0;34m=\u001b[0m \u001b[0;36m62\u001b[0m\u001b[0;34m\u001b[0m\u001b[0;34m\u001b[0m\u001b[0m\n\u001b[1;32m      6\u001b[0m \u001b[0mstart\u001b[0m \u001b[0;34m=\u001b[0m \u001b[0;36m0\u001b[0m\u001b[0;34m\u001b[0m\u001b[0;34m\u001b[0m\u001b[0m\n\u001b[0;32m----> 7\u001b[0;31m \u001b[0mend\u001b[0m \u001b[0;34m=\u001b[0m \u001b[0mdf\u001b[0m\u001b[0;34m.\u001b[0m\u001b[0mshape\u001b[0m\u001b[0;34m[\u001b[0m\u001b[0;36m0\u001b[0m\u001b[0;34m]\u001b[0m\u001b[0;34m\u001b[0m\u001b[0;34m\u001b[0m\u001b[0m\n\u001b[0m\u001b[1;32m      8\u001b[0m \u001b[0;34m\u001b[0m\u001b[0m\n\u001b[1;32m      9\u001b[0m \u001b[0mxAxis\u001b[0m \u001b[0;34m=\u001b[0m \u001b[0mdf\u001b[0m\u001b[0;34m[\u001b[0m\u001b[0;34m'Time'\u001b[0m\u001b[0;34m]\u001b[0m\u001b[0;34m.\u001b[0m\u001b[0miloc\u001b[0m\u001b[0;34m[\u001b[0m\u001b[0mstart\u001b[0m\u001b[0;34m:\u001b[0m\u001b[0mend\u001b[0m\u001b[0;34m]\u001b[0m\u001b[0;34m\u001b[0m\u001b[0;34m\u001b[0m\u001b[0m\n",
            "\u001b[0;31mNameError\u001b[0m: name 'df' is not defined"
          ]
        }
      ],
      "source": [
        "# Analyze a single variable vs. time\n",
        "\n",
        "import matplotlib.pyplot as plt\n",
        "\n",
        "label_index = 62\n",
        "start_time = 0\n",
        "end_time = df.shape[0]\n",
        "\n",
        "start = round(start_time * FREQUENCY)\n",
        "end = round(end_time * FREQUENCY)\n",
        "\n",
        "xAxis = df['Time'].iloc[start:end]\n",
        "yAxis = df.iloc[start:end, label_index]\n",
        "plt.plot(xAxis,yAxis, color='blue')\n",
        "plt.xlabel('Time')\n",
        "plt.ylabel(df.columns[label_index])\n",
        "plt.figure(figsize=(100, 100))\n",
        "\n",
        "plt.show()"
      ]
    },
    {
      "cell_type": "code",
      "execution_count": null,
      "metadata": {
        "id": "o1y9XwagJnLr"
      },
      "outputs": [],
      "source": [
        "# Compare filtered and unfiltered values\n",
        "\n",
        "import matplotlib.pyplot as plt\n",
        "\n",
        "label_index1 = 0\n",
        "label_index2 = 68\n",
        "start_time = 0\n",
        "end_time = df.shape[0]\n",
        "\n",
        "start = round(start_time * FREQUENCY)\n",
        "end = round(end_time * FREQUENCY)\n",
        "\n",
        "xAxis1 = df['Time'].iloc[start:end]\n",
        "yAxis1 = df.iloc[start:end, label_index1]\n",
        "plt.plot(xAxis1,yAxis1, label=df.columns[label_index1])\n",
        "\n",
        "xAxis2 = df['Time'].iloc[start:end]\n",
        "yAxis2 = df.iloc[start:end, label_index2]\n",
        "plt.plot(xAxis1,yAxis1, label=df.columns[label_index2])\n",
        "\n",
        "plt.xlabel('Time')\n",
        "plt.legend()\n",
        "plt.title('Filtered vs. Unfiltered')\n",
        "plt.figure(figsize=(100, 100))\n",
        "\n",
        "plt.show()"
      ]
    },
    {
      "cell_type": "code",
      "execution_count": null,
      "metadata": {
        "id": "GK5vpaCNv3Mi"
      },
      "outputs": [],
      "source": [
        "# Compare command and feedback values\n",
        "\n",
        "import matplotlib.pyplot as plt\n",
        "\n",
        "label_index1 = 0\n",
        "label_index2 = 39\n",
        "start_time = 0\n",
        "end_time = df.shape[0]\n",
        "\n",
        "start = round(start_time * FREQUENCY)\n",
        "end = round(end_time * FREQUENCY)\n",
        "\n",
        "xAxis1 = df['Time'].iloc[start:end]\n",
        "yAxis1 = df.iloc[start:end, label_index1]\n",
        "plt.plot(xAxis1,yAxis1, label=df.columns[label_index1])\n",
        "\n",
        "xAxis2 = df['Time'].iloc[start:end]\n",
        "yAxis2 = df.iloc[start:end, label_index2]\n",
        "plt.plot(xAxis1,yAxis1, label=df.columns[label_index2])\n",
        "\n",
        "plt.xlabel('Time')\n",
        "plt.legend()\n",
        "plt.title('Command vs. Feedback')\n",
        "plt.figure(figsize=(100, 100))\n",
        "\n",
        "plt.show()"
      ]
    },
    {
      "cell_type": "markdown",
      "metadata": {
        "id": "r_MVwXCE_Txy"
      },
      "source": [
        "##Tests"
      ]
    },
    {
      "cell_type": "markdown",
      "metadata": {
        "id": "gyInYFJDFGwI"
      },
      "source": [
        "### Normality Test"
      ]
    },
    {
      "cell_type": "code",
      "execution_count": null,
      "metadata": {
        "colab": {
          "base_uri": "https://localhost:8080/"
        },
        "id": "04MA10Hv1fqw",
        "outputId": "a5ec3008-1db2-419d-f870-1866d68cd68e"
      },
      "outputs": [
        {
          "name": "stderr",
          "output_type": "stream",
          "text": [
            "/usr/local/lib/python3.7/dist-packages/sklearn/utils/validation.py:1692: FutureWarning: Feature names only support names that are all strings. Got feature names with dtypes: ['str', 'tuple']. An error will be raised in 1.2.\n",
            "  FutureWarning,\n",
            "/usr/local/lib/python3.7/dist-packages/sklearn/utils/validation.py:1692: FutureWarning: Feature names only support names that are all strings. Got feature names with dtypes: ['str', 'tuple']. An error will be raised in 1.2.\n",
            "  FutureWarning,\n"
          ]
        }
      ],
      "source": [
        "# Standard Scaler\n",
        "\n",
        "from sklearn.preprocessing import StandardScaler \n",
        "\n",
        "scaler = StandardScaler()\n",
        "scaler.fit(df)\n",
        "df_scaled = scaler.transform(df)\n",
        "\n",
        "new_columns = new_columns.append('Time')\n",
        "df_scaled = pd.DataFrame(data = df_scaled, columns = new_columns)"
      ]
    },
    {
      "cell_type": "code",
      "execution_count": null,
      "metadata": {
        "colab": {
          "base_uri": "https://localhost:8080/"
        },
        "id": "0WRGAzkEFIHD",
        "outputId": "fa4d5fbb-bf8c-4eb0-a7c0-5dbd8e840327"
      },
      "outputs": [
        {
          "name": "stderr",
          "output_type": "stream",
          "text": [
            "/usr/local/lib/python3.7/dist-packages/scipy/stats/stats.py:1688: RuntimeWarning: invalid value encountered in double_scalars\n",
            "  skewness = (1 / n * np.sum(diffx**3)) / (1 / n * np.sum(diffx**2))**(3 / 2.)\n",
            "/usr/local/lib/python3.7/dist-packages/scipy/stats/stats.py:1689: RuntimeWarning: invalid value encountered in double_scalars\n",
            "  kurtosis = (1 / n * np.sum(diffx**4)) / (1 / n * np.sum(diffx**2))**2\n"
          ]
        },
        {
          "name": "stdout",
          "output_type": "stream",
          "text": [
            "[107484.33052309406, 1004546.0280809291, 3962585.499258625, 524803.069093439, 109138.40751855899, 20080.295264458327, 2245588.9046685854, 20668847.062870435, 553150.131365063, 103295.55479601119, 568132.8420471066, 515604.26115123986, 1969031.6757911728, 653617.6882691262, 653619.2084175186, 2794907578680.12, 1967376.2836282088, 653225.0572917627, 703224.2218182681, 355333194.31304014, 134139.89151304346, 372868.1343927961, 107349.08247018303, nan, 724794.3655549193, nan, 20076.84381209095, 5005873642749.328, 1969306.4825127362, 5366348.904721229, 670732.4304991952, 7829175072.368195, 905243.7873451123, 231944.2403706863, 137114.09505877088, 119876.44931491198, 405351.53216180054, 23035.41144049058, 24536.164002317393, 107349.08247018303, 2365743929089.068, 1969031.6757911728, 167717.82365281053, 699172.3303504501, 18778.30342868206, 110577.83487500405, 522709.9187005952, 19882.291266784367, 673434.4837060269, 1366455.9667516695, 573313.3895199639, 1969031.6757911728, 3519884.995716333, 1295422.0191983883, 1966894.895061596, 2944747.764940389, 553480.9825639802, 7408.245857144089, 26581.924075837378, 2448374115778.2217, 3327.5069354770426, 185828.28368740654, 703375709.6192718, 1395426116.4438517, 524803.069093439, 109138.40751855899, 20080.295264458327, nan, 107459.20214075218, 478485.5066054947, 508383.8939493157, 508383.8939493157, 194354058.1747424, 20124884.06555005, 30029.64433930927, 887548489.201094, 14107858.377910724, 26967367.28701405, 175904019.62743902, 1472420.2217134892, 1461758655695.8984, 8348747.118355545, 2802.324668153301, 9465.237164826898, 102679.76674386307, 798359.7671043087, 369553.193004685, 2245588.9046685854, 107758.14249652818, 105833.23249263583, 122163362.2342567, 568133.4708681165, 573313.515646736, 553150.131365063, 673333.8173890774, 553123.6080188853, 20668847.062870435, 478679.4674503465, 477154.6984132556, 568132.8420471066, 347393.0148479687, 2674565.211117786, 355377995.4440604, 5005873642749.332, 5005873642749.332, 565897214891.151, 252801375086.3063, 6946121071.221476, 5156506506.2423935, 5366348.904721229, 699172.3303504501, 15504.785943714023, 1718248415088.8762, 1706445870330.4338, nan, nan, 3962578.276444553, 110577.83487500405, 522709.9187005952, 19882.291266784367, 1366455.9920245565, 122163362.2342567, 673434.4837060269, 29116470.744278286, 149090551.8081531, 145663231.27878892, 8226720028.254286, 9577390342.308435, 47892497.70385819, 47286974.98981883, 3478589315.7631407, 215848399.7453042, 1750406.8816808513, 471186043.98310083, 19428363.536945008, 25413885.820265498, 932022682.1206434, 16105967.608623061, 7557576.452857255, 15234344.724501941, 218.79599971553858, 524578.3759958104, 110086.5221051751, 19231.40562679572, 113239.46605097923, 69117530.88182762, 1366455.9920245565, 125024.00352327355, 149683.56974421386, 149473.29496741216, 818268.6074657689, 818096.5232505999, 1220526.4153640203, 1220795.1548607876, 1326890.0755735096, 1327164.9009972666, 438450.4296252179, 438183.20649120136, 25111707.349922143, 1142257.9924310453, 517677.4876781519, 509820.5563553245, 511606.80640281824, 1105378.1555837328, 653566.226411859, 508910.0548076481, 573313.3903263466, 5005873642749.332, 5005873642749.332, 5005873642749.332, 5005873642749.332, 653617.6882691262, 883955676.4913543, 135818221343.78535, 9673.656233989288, 8385.648694173651, 1892687244792.8484, 176229584.3029485, 160578.3607885346, 4340.3750767209995, 1881130378101.8198, 176190166.41064414, 3204.6957608674134, 28428.0100085147, 1880671403799.9155, 2365743868105.8887, nan, 1968965.0034476656, 20076.723832474272, 777647.2011887315, 4991364264501.143, 5002667205547.903, 1793749981.359971, 53871677.24137887, 77812598.15602526, 18810.20804617267, 2793.011338355588, 8949.10969190787, 1892691300357.273, 2794907423142.416, 106851.54939748268, 29049.86628265252, 3826466.846739838, nan, 113241.60108553675, 2408102.9278937494, 1744838.1845698261, 1744838.1845698261, 2408102.9278937494, 508383.8939493157, 23895.77381355824, 185828.28368740654, 477175.62779782066, 18800.64000076595]\n"
          ]
        }
      ],
      "source": [
        "# Source: https://towardsdatascience.com/methods-for-normality-test-with-application-in-python-bb91b49ed0f5\n",
        "\n",
        "from scipy.stats import jarque_bera\n",
        "\n",
        "normal_cols = []\n",
        "for col in df_scaled.columns:\n",
        "  score, p_value = jarque_bera(df_scaled[[col]])\n",
        "  normal_cols.append(score)\n",
        "\n",
        "print(normal_cols)\n",
        "\n",
        "# Unfortunately, it appears that the data does not exhibit any normality in its current state and also with standard scaling"
      ]
    },
    {
      "cell_type": "markdown",
      "metadata": {
        "id": "9RWl9z4tue0u"
      },
      "source": [
        "### Stationarity Test"
      ]
    },
    {
      "cell_type": "code",
      "execution_count": null,
      "metadata": {
        "id": "MlGVW1VSugeW"
      },
      "outputs": [],
      "source": [
        "from statsmodels.tsa.stattools import adfuller\n",
        "\n",
        "stationary_cols = []\n",
        "for col in df.columns:\n",
        "  adf = adfuller(df[col])\n",
        "  p_value = adf[1]\n",
        "  if p_value < 0.05:\n",
        "    stationary_cols.append(col)\n",
        "\n",
        "print(stationary_cols)"
      ]
    },
    {
      "cell_type": "markdown",
      "metadata": {
        "id": "OBZS4IHgS15z"
      },
      "source": [
        "## Dimensionality Reduction"
      ]
    },
    {
      "cell_type": "code",
      "execution_count": null,
      "metadata": {
        "colab": {
          "base_uri": "https://localhost:8080/"
        },
        "id": "sQU1bgHfZPpn",
        "outputId": "1092d523-b94f-49ad-d8c5-0580d81b7677"
      },
      "outputs": [
        {
          "name": "stderr",
          "output_type": "stream",
          "text": [
            "/usr/local/lib/python3.7/dist-packages/sklearn/utils/validation.py:1692: FutureWarning: Feature names only support names that are all strings. Got feature names with dtypes: ['str', 'tuple']. An error will be raised in 1.2.\n",
            "  FutureWarning,\n",
            "/usr/local/lib/python3.7/dist-packages/sklearn/utils/validation.py:1692: FutureWarning: Feature names only support names that are all strings. Got feature names with dtypes: ['str', 'tuple']. An error will be raised in 1.2.\n",
            "  FutureWarning,\n"
          ]
        },
        {
          "name": "stdout",
          "output_type": "stream",
          "text": [
            "<class 'numpy.ndarray'>\n"
          ]
        }
      ],
      "source": [
        "# Scale the data to prepare it for PCA\n",
        "\n",
        "from sklearn.preprocessing import StandardScaler \n",
        "\n",
        "scaler = StandardScaler()\n",
        "scaler.fit(df)\n",
        "df_scaled = scaler.transform(df)"
      ]
    },
    {
      "cell_type": "code",
      "execution_count": null,
      "metadata": {
        "colab": {
          "base_uri": "https://localhost:8080/"
        },
        "id": "1EVi_yO1GEVu",
        "outputId": "26140e52-4483-443c-9202-725a0f0d8c58"
      },
      "outputs": [
        {
          "name": "stdout",
          "output_type": "stream",
          "text": [
            "<class 'numpy.ndarray'>\n",
            "(313344, 214)\n"
          ]
        }
      ],
      "source": [
        "print(type(df_scaled))\n",
        "print(df_scaled.shape)"
      ]
    },
    {
      "cell_type": "code",
      "execution_count": null,
      "metadata": {
        "colab": {
          "base_uri": "https://localhost:8080/",
          "height": 300
        },
        "id": "kAHTWxf0GbB1",
        "outputId": "2ce4d51b-aecd-48a6-99d1-3cadb888825d"
      },
      "outputs": [
        {
          "data": {
            "text/html": [
              "\n",
              "  <div id=\"df-0771b924-6866-4507-933f-120d6013ded6\">\n",
              "    <div class=\"colab-df-container\">\n",
              "      <div>\n",
              "<style scoped>\n",
              "    .dataframe tbody tr th:only-of-type {\n",
              "        vertical-align: middle;\n",
              "    }\n",
              "\n",
              "    .dataframe tbody tr th {\n",
              "        vertical-align: top;\n",
              "    }\n",
              "\n",
              "    .dataframe thead th {\n",
              "        text-align: right;\n",
              "    }\n",
              "</style>\n",
              "<table border=\"1\" class=\"dataframe\">\n",
              "  <thead>\n",
              "    <tr style=\"text-align: right;\">\n",
              "      <th></th>\n",
              "      <th>0</th>\n",
              "      <th>1</th>\n",
              "      <th>2</th>\n",
              "      <th>3</th>\n",
              "      <th>4</th>\n",
              "      <th>5</th>\n",
              "      <th>6</th>\n",
              "      <th>7</th>\n",
              "      <th>8</th>\n",
              "      <th>9</th>\n",
              "      <th>...</th>\n",
              "      <th>204</th>\n",
              "      <th>205</th>\n",
              "      <th>206</th>\n",
              "      <th>207</th>\n",
              "      <th>208</th>\n",
              "      <th>209</th>\n",
              "      <th>210</th>\n",
              "      <th>211</th>\n",
              "      <th>212</th>\n",
              "      <th>213</th>\n",
              "    </tr>\n",
              "  </thead>\n",
              "  <tbody>\n",
              "    <tr>\n",
              "      <th>0</th>\n",
              "      <td>0.001385</td>\n",
              "      <td>0.031865</td>\n",
              "      <td>1.028759</td>\n",
              "      <td>-0.107974</td>\n",
              "      <td>-0.033316</td>\n",
              "      <td>1.541713</td>\n",
              "      <td>0.367143</td>\n",
              "      <td>0.133773</td>\n",
              "      <td>0.017291</td>\n",
              "      <td>-0.032821</td>\n",
              "      <td>...</td>\n",
              "      <td>0.556033</td>\n",
              "      <td>0.303953</td>\n",
              "      <td>0.059452</td>\n",
              "      <td>0.059452</td>\n",
              "      <td>0.303953</td>\n",
              "      <td>-0.165710</td>\n",
              "      <td>-3.305139</td>\n",
              "      <td>3.878652</td>\n",
              "      <td>-0.105567</td>\n",
              "      <td>-1.732045</td>\n",
              "    </tr>\n",
              "    <tr>\n",
              "      <th>1</th>\n",
              "      <td>0.001125</td>\n",
              "      <td>0.046371</td>\n",
              "      <td>1.028836</td>\n",
              "      <td>-0.107850</td>\n",
              "      <td>-0.032585</td>\n",
              "      <td>1.540729</td>\n",
              "      <td>0.389949</td>\n",
              "      <td>0.135525</td>\n",
              "      <td>0.015592</td>\n",
              "      <td>-0.032090</td>\n",
              "      <td>...</td>\n",
              "      <td>0.155056</td>\n",
              "      <td>0.320668</td>\n",
              "      <td>0.051487</td>\n",
              "      <td>0.051487</td>\n",
              "      <td>0.320668</td>\n",
              "      <td>-0.165787</td>\n",
              "      <td>-3.305139</td>\n",
              "      <td>3.724509</td>\n",
              "      <td>-0.116262</td>\n",
              "      <td>-1.732034</td>\n",
              "    </tr>\n",
              "    <tr>\n",
              "      <th>2</th>\n",
              "      <td>0.000830</td>\n",
              "      <td>0.051566</td>\n",
              "      <td>1.028945</td>\n",
              "      <td>-0.107845</td>\n",
              "      <td>-0.031943</td>\n",
              "      <td>1.539835</td>\n",
              "      <td>0.408128</td>\n",
              "      <td>0.137169</td>\n",
              "      <td>0.013627</td>\n",
              "      <td>-0.031448</td>\n",
              "      <td>...</td>\n",
              "      <td>-0.016410</td>\n",
              "      <td>0.337252</td>\n",
              "      <td>0.049928</td>\n",
              "      <td>0.049928</td>\n",
              "      <td>0.337252</td>\n",
              "      <td>-0.165728</td>\n",
              "      <td>-3.305139</td>\n",
              "      <td>3.885412</td>\n",
              "      <td>-0.112697</td>\n",
              "      <td>-1.732023</td>\n",
              "    </tr>\n",
              "    <tr>\n",
              "      <th>3</th>\n",
              "      <td>0.000537</td>\n",
              "      <td>0.045316</td>\n",
              "      <td>1.029061</td>\n",
              "      <td>-0.107933</td>\n",
              "      <td>-0.031465</td>\n",
              "      <td>1.539009</td>\n",
              "      <td>0.419441</td>\n",
              "      <td>0.138580</td>\n",
              "      <td>0.011713</td>\n",
              "      <td>-0.030970</td>\n",
              "      <td>...</td>\n",
              "      <td>0.736752</td>\n",
              "      <td>0.351871</td>\n",
              "      <td>-0.006233</td>\n",
              "      <td>-0.006233</td>\n",
              "      <td>0.351871</td>\n",
              "      <td>-0.165799</td>\n",
              "      <td>-3.305139</td>\n",
              "      <td>4.212500</td>\n",
              "      <td>-0.089301</td>\n",
              "      <td>-1.732012</td>\n",
              "    </tr>\n",
              "    <tr>\n",
              "      <th>4</th>\n",
              "      <td>0.000277</td>\n",
              "      <td>0.030982</td>\n",
              "      <td>1.029157</td>\n",
              "      <td>-0.108087</td>\n",
              "      <td>-0.031236</td>\n",
              "      <td>1.538244</td>\n",
              "      <td>0.421003</td>\n",
              "      <td>0.139678</td>\n",
              "      <td>0.010079</td>\n",
              "      <td>-0.030741</td>\n",
              "      <td>...</td>\n",
              "      <td>-0.012395</td>\n",
              "      <td>0.364014</td>\n",
              "      <td>-0.021848</td>\n",
              "      <td>-0.021848</td>\n",
              "      <td>0.364014</td>\n",
              "      <td>-0.165775</td>\n",
              "      <td>-3.305139</td>\n",
              "      <td>4.346036</td>\n",
              "      <td>-0.090861</td>\n",
              "      <td>-1.732001</td>\n",
              "    </tr>\n",
              "  </tbody>\n",
              "</table>\n",
              "<p>5 rows × 214 columns</p>\n",
              "</div>\n",
              "      <button class=\"colab-df-convert\" onclick=\"convertToInteractive('df-0771b924-6866-4507-933f-120d6013ded6')\"\n",
              "              title=\"Convert this dataframe to an interactive table.\"\n",
              "              style=\"display:none;\">\n",
              "        \n",
              "  <svg xmlns=\"http://www.w3.org/2000/svg\" height=\"24px\"viewBox=\"0 0 24 24\"\n",
              "       width=\"24px\">\n",
              "    <path d=\"M0 0h24v24H0V0z\" fill=\"none\"/>\n",
              "    <path d=\"M18.56 5.44l.94 2.06.94-2.06 2.06-.94-2.06-.94-.94-2.06-.94 2.06-2.06.94zm-11 1L8.5 8.5l.94-2.06 2.06-.94-2.06-.94L8.5 2.5l-.94 2.06-2.06.94zm10 10l.94 2.06.94-2.06 2.06-.94-2.06-.94-.94-2.06-.94 2.06-2.06.94z\"/><path d=\"M17.41 7.96l-1.37-1.37c-.4-.4-.92-.59-1.43-.59-.52 0-1.04.2-1.43.59L10.3 9.45l-7.72 7.72c-.78.78-.78 2.05 0 2.83L4 21.41c.39.39.9.59 1.41.59.51 0 1.02-.2 1.41-.59l7.78-7.78 2.81-2.81c.8-.78.8-2.07 0-2.86zM5.41 20L4 18.59l7.72-7.72 1.47 1.35L5.41 20z\"/>\n",
              "  </svg>\n",
              "      </button>\n",
              "      \n",
              "  <style>\n",
              "    .colab-df-container {\n",
              "      display:flex;\n",
              "      flex-wrap:wrap;\n",
              "      gap: 12px;\n",
              "    }\n",
              "\n",
              "    .colab-df-convert {\n",
              "      background-color: #E8F0FE;\n",
              "      border: none;\n",
              "      border-radius: 50%;\n",
              "      cursor: pointer;\n",
              "      display: none;\n",
              "      fill: #1967D2;\n",
              "      height: 32px;\n",
              "      padding: 0 0 0 0;\n",
              "      width: 32px;\n",
              "    }\n",
              "\n",
              "    .colab-df-convert:hover {\n",
              "      background-color: #E2EBFA;\n",
              "      box-shadow: 0px 1px 2px rgba(60, 64, 67, 0.3), 0px 1px 3px 1px rgba(60, 64, 67, 0.15);\n",
              "      fill: #174EA6;\n",
              "    }\n",
              "\n",
              "    [theme=dark] .colab-df-convert {\n",
              "      background-color: #3B4455;\n",
              "      fill: #D2E3FC;\n",
              "    }\n",
              "\n",
              "    [theme=dark] .colab-df-convert:hover {\n",
              "      background-color: #434B5C;\n",
              "      box-shadow: 0px 1px 3px 1px rgba(0, 0, 0, 0.15);\n",
              "      filter: drop-shadow(0px 1px 2px rgba(0, 0, 0, 0.3));\n",
              "      fill: #FFFFFF;\n",
              "    }\n",
              "  </style>\n",
              "\n",
              "      <script>\n",
              "        const buttonEl =\n",
              "          document.querySelector('#df-0771b924-6866-4507-933f-120d6013ded6 button.colab-df-convert');\n",
              "        buttonEl.style.display =\n",
              "          google.colab.kernel.accessAllowed ? 'block' : 'none';\n",
              "\n",
              "        async function convertToInteractive(key) {\n",
              "          const element = document.querySelector('#df-0771b924-6866-4507-933f-120d6013ded6');\n",
              "          const dataTable =\n",
              "            await google.colab.kernel.invokeFunction('convertToInteractive',\n",
              "                                                     [key], {});\n",
              "          if (!dataTable) return;\n",
              "\n",
              "          const docLinkHtml = 'Like what you see? Visit the ' +\n",
              "            '<a target=\"_blank\" href=https://colab.research.google.com/notebooks/data_table.ipynb>data table notebook</a>'\n",
              "            + ' to learn more about interactive tables.';\n",
              "          element.innerHTML = '';\n",
              "          dataTable['output_type'] = 'display_data';\n",
              "          await google.colab.output.renderOutput(dataTable, element);\n",
              "          const docLink = document.createElement('div');\n",
              "          docLink.innerHTML = docLinkHtml;\n",
              "          element.appendChild(docLink);\n",
              "        }\n",
              "      </script>\n",
              "    </div>\n",
              "  </div>\n",
              "  "
            ],
            "text/plain": [
              "        0         1         2         3         4         5         6    \\\n",
              "0  0.001385  0.031865  1.028759 -0.107974 -0.033316  1.541713  0.367143   \n",
              "1  0.001125  0.046371  1.028836 -0.107850 -0.032585  1.540729  0.389949   \n",
              "2  0.000830  0.051566  1.028945 -0.107845 -0.031943  1.539835  0.408128   \n",
              "3  0.000537  0.045316  1.029061 -0.107933 -0.031465  1.539009  0.419441   \n",
              "4  0.000277  0.030982  1.029157 -0.108087 -0.031236  1.538244  0.421003   \n",
              "\n",
              "        7         8         9    ...       204       205       206       207  \\\n",
              "0  0.133773  0.017291 -0.032821  ...  0.556033  0.303953  0.059452  0.059452   \n",
              "1  0.135525  0.015592 -0.032090  ...  0.155056  0.320668  0.051487  0.051487   \n",
              "2  0.137169  0.013627 -0.031448  ... -0.016410  0.337252  0.049928  0.049928   \n",
              "3  0.138580  0.011713 -0.030970  ...  0.736752  0.351871 -0.006233 -0.006233   \n",
              "4  0.139678  0.010079 -0.030741  ... -0.012395  0.364014 -0.021848 -0.021848   \n",
              "\n",
              "        208       209       210       211       212       213  \n",
              "0  0.303953 -0.165710 -3.305139  3.878652 -0.105567 -1.732045  \n",
              "1  0.320668 -0.165787 -3.305139  3.724509 -0.116262 -1.732034  \n",
              "2  0.337252 -0.165728 -3.305139  3.885412 -0.112697 -1.732023  \n",
              "3  0.351871 -0.165799 -3.305139  4.212500 -0.089301 -1.732012  \n",
              "4  0.364014 -0.165775 -3.305139  4.346036 -0.090861 -1.732001  \n",
              "\n",
              "[5 rows x 214 columns]"
            ]
          },
          "execution_count": 17,
          "metadata": {},
          "output_type": "execute_result"
        }
      ],
      "source": [
        "new_columns = new_columns.append('Time')\n",
        "df_scaled = pd.DataFrame(data = df_scaled, columns = new_columns)\n",
        "df_scaled.head()"
      ]
    },
    {
      "cell_type": "code",
      "execution_count": null,
      "metadata": {
        "colab": {
          "base_uri": "https://localhost:8080/"
        },
        "id": "94rMizV5GWMF",
        "outputId": "723eabda-e697-4452-82a8-51d7cffdfeb1"
      },
      "outputs": [
        {
          "name": "stdout",
          "output_type": "stream",
          "text": [
            "Correlation matrix type: <class 'pandas.core.frame.DataFrame'>\n",
            "\n"
          ]
        }
      ],
      "source": [
        "# Test eligibility for dimensionality reduction using correlation matrix\n",
        "\n",
        "correlation_matrix = df_scaled.corr()\n",
        "\n",
        "print(\"Correlation matrix type: {}\\n\".format(type(correlation_matrix)))"
      ]
    },
    {
      "cell_type": "code",
      "execution_count": null,
      "metadata": {
        "colab": {
          "base_uri": "https://localhost:8080/"
        },
        "id": "bxo5WKvMG84_",
        "outputId": "af3b77e4-e39b-4f99-c0d7-7ec4a831f754"
      },
      "outputs": [
        {
          "name": "stdout",
          "output_type": "stream",
          "text": [
            "<class 'pandas.core.series.Series'>\n",
            "\n",
            "Percent of entries with correlation between -0.1 and 0.1: 0.6755298144004213\n"
          ]
        }
      ],
      "source": [
        "# Check number of entries that exceed threshold = 0.33\n",
        "# Vast number of data entries show little to no correlation\n",
        "\n",
        "TOTAL_ENTRIES = 214*214-214\n",
        "\n",
        "correlation_matrix_threshold1 = correlation_matrix[correlation_matrix > -0.1].count()\n",
        "\n",
        "correlation_matrix_threshold2 = correlation_matrix[correlation_matrix > 0.1].count()\n",
        "\n",
        "correlation_matrix_threshold = correlation_matrix_threshold1 - correlation_matrix_threshold2\n",
        "\n",
        "print(type(correlation_matrix_threshold))\n",
        "\n",
        "print(\"\\nPercent of entries with correlation between -0.1 and 0.1: {}\".format(correlation_matrix_threshold.sum()/TOTAL_ENTRIES))"
      ]
    },
    {
      "cell_type": "code",
      "execution_count": null,
      "metadata": {
        "id": "-xJe5LOdyWO1"
      },
      "outputs": [],
      "source": [
        "# Randomly sample rows\n",
        "\n",
        "df_sample = df.sample(frac=0.9)"
      ]
    },
    {
      "cell_type": "code",
      "execution_count": null,
      "metadata": {
        "colab": {
          "base_uri": "https://localhost:8080/"
        },
        "id": "e_Q4nYSLtclL",
        "outputId": "ce1c78eb-277d-4438-8e46-ce40d35f78e9"
      },
      "outputs": [
        {
          "name": "stderr",
          "output_type": "stream",
          "text": [
            "/usr/local/lib/python3.7/dist-packages/sklearn/utils/validation.py:1692: FutureWarning: Feature names only support names that are all strings. Got feature names with dtypes: ['str', 'tuple']. An error will be raised in 1.2.\n",
            "  FutureWarning,\n",
            "/usr/local/lib/python3.7/dist-packages/sklearn/utils/validation.py:1692: FutureWarning: Feature names only support names that are all strings. Got feature names with dtypes: ['str', 'tuple']. An error will be raised in 1.2.\n",
            "  FutureWarning,\n"
          ]
        },
        {
          "name": "stdout",
          "output_type": "stream",
          "text": [
            "Original shape: (282010, 214)\n",
            "Reduced shape: (282010, 2)\n"
          ]
        }
      ],
      "source": [
        "# PCA and visualization\n",
        "\n",
        "from sklearn.decomposition import PCA\n",
        "\n",
        "pca = PCA(n_components=2)\n",
        "\n",
        "pca.fit(df_scaled)\n",
        "# transform data onto the first two principal components\n",
        "df_pca = pca.transform(df_scaled)\n",
        "print(\"Original shape: {}\".format(str(df_scaled.shape)))\n",
        "print(\"Reduced shape: {}\".format(str(df_pca.shape)))\n"
      ]
    },
    {
      "cell_type": "code",
      "execution_count": null,
      "metadata": {
        "colab": {
          "base_uri": "https://localhost:8080/",
          "height": 497
        },
        "id": "yn6XfUgHxSPu",
        "outputId": "5528e352-dd17-483a-ba2a-06772fd8f1be"
      },
      "outputs": [
        {
          "data": {
            "image/png": "[encoded data removed]",
            "text/plain": [
              "<Figure size 576x576 with 1 Axes>"
            ]
          },
          "metadata": {},
          "output_type": "display_data"
        }
      ],
      "source": [
        "# Plot reduced shape\n",
        "\n",
        "import matplotlib.pyplot as plt\n",
        "\n",
        "first_component = list(df_pca[:, 0])\n",
        "second_component = list(df_pca[:,1])\n",
        "\n",
        "plt.figure(figsize=(8, 8))\n",
        "plt.xlabel(\"First principal component\")\n",
        "plt.ylabel(\"Second principal component\")\n",
        "\n",
        "plt.scatter(first_component, second_component)\n",
        "plt.show()"
      ]
    },
    {
      "cell_type": "markdown",
      "metadata": {
        "id": "apiCbHFQSIB5"
      },
      "source": [
        "# Model Tests"
      ]
    },
    {
      "cell_type": "markdown",
      "metadata": {
        "id": "FtaQ_j6s_2VJ"
      },
      "source": [
        "##Isolation Forest"
      ]
    },
    {
      "cell_type": "code",
      "execution_count": null,
      "metadata": {
        "colab": {
          "base_uri": "https://localhost:8080/"
        },
        "id": "MsyeIv2rSLM-",
        "outputId": "6eb90218-18fe-4a77-adf1-93b35bdb4a30"
      },
      "outputs": [
        {
          "output_type": "stream",
          "name": "stderr",
          "text": [
            "/usr/local/lib/python3.7/dist-packages/sklearn/base.py:451: UserWarning: X does not have valid feature names, but IsolationForest was fitted with feature names\n",
            "  \"X does not have valid feature names, but\"\n"
          ]
        }
      ],
      "source": [
        "# Create and run model\n",
        "\n",
        "from sklearn.ensemble import IsolationForest\n",
        "\n",
        "iforest = IsolationForest(random_state = 0, contamination= 0.0001)\n",
        "\n",
        "predictions = iforest.fit_predict(df_no_time)\n",
        "\n"
      ]
    },
    {
      "cell_type": "code",
      "execution_count": null,
      "metadata": {
        "colab": {
          "base_uri": "https://localhost:8080/",
          "height": 550
        },
        "id": "x_A6TH3MY4H8",
        "outputId": "6941c470-f38a-4788-c0df-73a9f2b894a0"
      },
      "outputs": [
        {
          "output_type": "stream",
          "name": "stdout",
          "text": [
            "Looking in indexes: https://pypi.org/simple, https://us-python.pkg.dev/colab-wheels/public/simple/\n",
            "Requirement already satisfied: umap-learn in /usr/local/lib/python3.7/dist-packages (0.5.3)\n",
            "Requirement already satisfied: pynndescent>=0.5 in /usr/local/lib/python3.7/dist-packages (from umap-learn) (0.5.7)\n",
            "Requirement already satisfied: scipy>=1.0 in /usr/local/lib/python3.7/dist-packages (from umap-learn) (1.4.1)\n",
            "Requirement already satisfied: numba>=0.49 in /usr/local/lib/python3.7/dist-packages (from umap-learn) (0.51.2)\n",
            "Requirement already satisfied: scikit-learn>=0.22 in /usr/local/lib/python3.7/dist-packages (from umap-learn) (1.0.2)\n",
            "Requirement already satisfied: tqdm in /usr/local/lib/python3.7/dist-packages (from umap-learn) (4.64.0)\n",
            "Requirement already satisfied: numpy>=1.17 in /usr/local/lib/python3.7/dist-packages (from umap-learn) (1.21.6)\n",
            "Requirement already satisfied: setuptools in /usr/local/lib/python3.7/dist-packages (from numba>=0.49->umap-learn) (57.4.0)\n",
            "Requirement already satisfied: llvmlite<0.35,>=0.34.0.dev0 in /usr/local/lib/python3.7/dist-packages (from numba>=0.49->umap-learn) (0.34.0)\n",
            "Requirement already satisfied: joblib>=0.11 in /usr/local/lib/python3.7/dist-packages (from pynndescent>=0.5->umap-learn) (1.1.0)\n",
            "Requirement already satisfied: threadpoolctl>=2.0.0 in /usr/local/lib/python3.7/dist-packages (from scikit-learn>=0.22->umap-learn) (3.1.0)\n"
          ]
        },
        {
          "output_type": "stream",
          "name": "stderr",
          "text": [
            "/usr/local/lib/python3.7/dist-packages/sklearn/manifold/_spectral_embedding.py:261: UserWarning: Graph is not fully connected, spectral embedding may not work as expected.\n",
            "  \"Graph is not fully connected, spectral embedding may not work as expected.\"\n",
            "No handles with labels found to put in legend.\n"
          ]
        },
        {
          "output_type": "display_data",
          "data": {
            "text/plain": [
              "<Figure size 432x288 with 1 Axes>"
            ],
            "image/png": "[encoded data removed]"
          },
          "metadata": {
            "needs_background": "light"
          }
        }
      ],
      "source": [
        "# Plot results using UMAP\n",
        "\n",
        "!pip install umap-learn\n",
        "import umap.umap_ as umap\n",
        "from sklearn.preprocessing import StandardScaler\n",
        "import matplotlib.pyplot as plt\n",
        "from matplotlib.colors import ListedColormap\n",
        "import seaborn as sns\n",
        "\n",
        "scaled_data = StandardScaler().fit_transform(df_no_time)\n",
        "reducer = umap.UMAP()\n",
        "\n",
        "embedding = reducer.fit_transform(scaled_data)\n",
        "cmap = ListedColormap([\"blue\", \"red\"])\n",
        "\n",
        "plt.scatter(\n",
        "    embedding[:, 0],\n",
        "    embedding[:, 1],\n",
        "    c= predictions, cmap = cmap)\n",
        "plt.gca().set_aspect('equal', 'datalim')\n",
        "plt.title('Isolation Forest Graph', fontsize=24)\n",
        "plt.legend()\n",
        "\n",
        "plt.show()\n"
      ]
    },
    {
      "cell_type": "code",
      "source": [
        "# Plot results with t-SNE\n",
        "\n"
      ],
      "metadata": {
        "id": "7rtkII2v6AxL"
      },
      "execution_count": null,
      "outputs": []
    },
    {
      "cell_type": "code",
      "execution_count": null,
      "metadata": {
        "id": "qWCYIuBqmCAO",
        "colab": {
          "base_uri": "https://localhost:8080/",
          "height": 312
        },
        "outputId": "ab6606c7-a493-4392-e3cc-00936fcdbb1b"
      },
      "outputs": [
        {
          "output_type": "display_data",
          "data": {
            "text/plain": [
              "<Figure size 432x288 with 1 Axes>"
            ],
            "image/png": "[encoded data removed]"
          },
          "metadata": {
            "needs_background": "light"
          }
        },
        {
          "output_type": "display_data",
          "data": {
            "text/plain": [
              "<Figure size 7200x7200 with 0 Axes>"
            ]
          },
          "metadata": {}
        }
      ],
      "source": [
        "# Overplotting tips: https://www.python-graph-gallery.com/134-how-to-avoid-overplotting-with-python \n",
        "\n",
        "# Plotting anomaly predictions on time series graphs\n",
        "\n",
        "import matplotlib.pyplot as plt\n",
        "\n",
        "df[\"Anomaly Prediction\"] = predictions\n",
        "\n",
        "# Easy input parameters\n",
        "\n",
        "label = 'FXtd Filtered - Longitudinal Force Filtered'\n",
        "start_time = 0\n",
        "end_time = 500\n",
        "\n",
        "# Calculations on input parameters\n",
        "\n",
        "start = round(start_time * FREQUENCY)\n",
        "end = round(end_time * FREQUENCY)\n",
        "label_index = df.columns.get_loc(label)\n",
        " \n",
        "# Split df based on anomaly group\n",
        "\n",
        "df_anomalies = df.loc[df['Anomaly Prediction'] == -1]\n",
        "df_normal = df.loc[df['Anomaly Prediction'] == 1]\n",
        "\n",
        "# Plot normal points\n",
        "\n",
        "plt.plot(df_normal.loc[(df['Time'] >= start_time) & (df['Time'] <= end_time)]['Time'], df_normal.loc[(df['Time'] >= start_time) & (df['Time'] <= end_time)].iloc[:, label_index], marker=\"o\", label='Normal', color = \"blue\", linestyle='', alpha = 0.5, markersize = 0.5)\n",
        "\n",
        "# Plot anomalies\n",
        "\n",
        "plt.scatter(df_anomalies.loc[(df['Time'] >= start_time) & (df['Time'] <= end_time)]['Time'], df_anomalies.loc[(df['Time'] >= start_time) & (df['Time'] <= end_time)].iloc[:, label_index], marker=\"o\", label='Anomalies', c = \"red\")\n",
        "\n",
        "plt.legend()\n",
        "\n",
        "plt.xlabel('Time')\n",
        "plt.title(df.columns[label_index])\n",
        "plt.figure(figsize=(100, 100))\n",
        "\n",
        "plt.show()"
      ]
    },
    {
      "cell_type": "markdown",
      "source": [
        "##Local Outlier Factor"
      ],
      "metadata": {
        "id": "pBgTBehFsEM2"
      }
    },
    {
      "cell_type": "code",
      "source": [
        "# Source: https://arshren.medium.com/anomaly-detection-using-local-outlier-factor-4e52f16894f \n",
        "\n",
        "from sklearn.neighbors import LocalOutlierFactor as LOF\n",
        "\n"
      ],
      "metadata": {
        "id": "tugaIwre2qbF"
      },
      "execution_count": null,
      "outputs": []
    },
    {
      "cell_type": "markdown",
      "source": [
        "##Autoencoder"
      ],
      "metadata": {
        "id": "AtkFrKsbr9zn"
      }
    },
    {
      "cell_type": "code",
      "source": [
        "# Sample implementations: https://colab.research.google.com/drive/1TXaQzsSj2q0E3Ni1uxFDXGpY1SCnu46v?usp=sharing#scrollTo=ACFZcFWEFNpQ.  \n",
        "# https://www.kaggle.com/code/robinteuwens/anomaly-detection-with-auto-encoders/notebook. \n",
        "\n",
        "import numpy as np\n",
        "import pandas as pd\n",
        "import tensorflow as tf\n",
        "import matplotlib.pyplot as plt\n",
        "from sklearn.metrics import accuracy_score\n",
        "from tensorflow.keras.optimizers import Adam\n",
        "from sklearn.preprocessing import MinMaxScaler\n",
        "from tensorflow.keras import Model, Sequential\n",
        "from tensorflow.keras.layers import Dense, Dropout\n",
        "from sklearn.model_selection import train_test_split\n",
        "from tensorflow.keras.losses import MeanSquaredLogarithmicError"
      ],
      "metadata": {
        "id": "nVTGHSiq4Zxt"
      },
      "execution_count": null,
      "outputs": []
    },
    {
      "cell_type": "code",
      "source": [
        "# Min-Max Scaling\n",
        "\n",
        "min_max_scaler = MinMaxScaler(feature_range=(0, 1))\n",
        "df_no_time_scaled = min_max_scaler.fit_transform(df_no_time)"
      ],
      "metadata": {
        "id": "sc1WbCKcH2iQ"
      },
      "execution_count": null,
      "outputs": []
    },
    {
      "cell_type": "code",
      "source": [
        "# create a model by subclassing Model class in tensorflow\n",
        "class AutoEncoder(Model):\n",
        "  \"\"\"\n",
        "  Parameters\n",
        "  ----------\n",
        "  output_units: int\n",
        "    Number of output units\n",
        "  \n",
        "  code_size: int\n",
        "    Number of units in bottle neck\n",
        "  \"\"\"\n",
        "\n",
        "  def __init__(self, output_units, code_size=8):\n",
        "    super().__init__()\n",
        "    self.encoder = Sequential([\n",
        "      Dense(64, activation='relu'),\n",
        "      Dropout(0.1),\n",
        "      Dense(32, activation='relu'),\n",
        "      Dropout(0.1),\n",
        "      Dense(16, activation='relu'),\n",
        "      Dropout(0.1),\n",
        "      Dense(code_size, activation='relu')\n",
        "    ])\n",
        "    self.decoder = Sequential([\n",
        "      Dense(16, activation='relu'),\n",
        "      Dropout(0.1),\n",
        "      Dense(32, activation='relu'),\n",
        "      Dropout(0.1),\n",
        "      Dense(64, activation='relu'),\n",
        "      Dropout(0.1),\n",
        "      Dense(output_units, activation='sigmoid')\n",
        "    ])\n",
        "  \n",
        "  def call(self, inputs):\n",
        "    encoded = self.encoder(inputs)\n",
        "    decoded = self.decoder(encoded)\n",
        "    return decoded"
      ],
      "metadata": {
        "id": "K-qNDMirIK6j"
      },
      "execution_count": null,
      "outputs": []
    },
    {
      "cell_type": "markdown",
      "source": [
        "##LSTM Autoencoder"
      ],
      "metadata": {
        "id": "I3jdL4fJr_wb"
      }
    },
    {
      "cell_type": "code",
      "source": [
        "# Sample implementation:  https://towardsdatascience.com/lstm-autoencoder-for-anomaly-detection-e1f4f2ee7ccf \n",
        "\n"
      ],
      "metadata": {
        "id": "ECy5-sWN4vY7"
      },
      "execution_count": null,
      "outputs": []
    }
  ],
  "metadata": {
    "colab": {
      "name": "GCAPS LTRe Anomaly Detection ML.ipynb",
      "provenance": [],
      "authorship_tag": "ABX9TyOS881ZjITlAUp/arCJvxBw"
    },
    "kernelspec": {
      "display_name": "Python 3",
      "name": "python3"
    },
    "language_info": {
      "name": "python"
    }
  },
  "nbformat": 4,
  "nbformat_minor": 0
}